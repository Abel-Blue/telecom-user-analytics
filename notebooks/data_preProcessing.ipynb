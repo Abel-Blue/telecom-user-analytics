{
 "cells": [
  {
   "cell_type": "markdown",
   "id": "c9004fd2",
   "metadata": {},
   "source": [
    "# User Overview Analysis"
   ]
  },
  {
   "cell_type": "markdown",
   "id": "2f11553c",
   "metadata": {},
   "source": [
    "**Data Cleaning is one of the essential step towards making real meaning of any dataset. It makes the data ready for modelling and analysis**."
   ]
  },
  {
   "cell_type": "code",
   "execution_count": 1,
   "id": "d745cfad",
   "metadata": {},
   "outputs": [],
   "source": [
    "# packages for path locations\n",
    "import os\n",
    "import sys"
   ]
  },
  {
   "cell_type": "code",
   "execution_count": 2,
   "id": "44f116b8",
   "metadata": {},
   "outputs": [],
   "source": [
    "# package scripts in the script module folder \n",
    "sys.path.insert(0,'../scripts/')"
   ]
  },
  {
   "cell_type": "code",
   "execution_count": 3,
   "id": "8a0671c9",
   "metadata": {},
   "outputs": [],
   "source": [
    "#importing the some libraries for the project\n",
    "import seaborn as sns\n",
    "import matplotlib.pyplot as plt\n",
    "%matplotlib inline\n",
    "from statistics import *\n",
    "import pandas as pd\n",
    "import numpy as np\n",
    "import warnings\n",
    "warnings.filterwarnings('ignore')"
   ]
  },
  {
   "cell_type": "code",
   "execution_count": null,
   "id": "48949831",
   "metadata": {},
   "outputs": [],
   "source": [
    "#Reading the data excel sheet\n",
    "pd.set_option('max_column', None)\n",
    "df=pd.read_excel('../data/Week1_challenge_data_source.xlsx', na_values=['?', None])\n",
    "df.head()"
   ]
  },
  {
   "cell_type": "markdown",
   "id": "1e67ab35",
   "metadata": {},
   "source": [
    "Before Cleaning a dataset, you need to explore what has been stored in it. The column names, how many data points,\n",
    "number of colum etc. All these questions needs to be answered"
   ]
  },
  {
   "cell_type": "code",
   "execution_count": null,
   "id": "afeda85e",
   "metadata": {},
   "outputs": [],
   "source": [
    "# column names\n",
    "df.columns.tolist()"
   ]
  },
  {
   "cell_type": "code",
   "execution_count": null,
   "id": "cdcf0763",
   "metadata": {},
   "outputs": [],
   "source": [
    "# number of data points\n",
    "print(f\" There are {df.shape[0]} rows and {df.shape[1]} columns\")"
   ]
  },
  {
   "cell_type": "markdown",
   "id": "d55f394e",
   "metadata": {},
   "source": [
    "For the actual telecom dataset, you‘re expected to conduct a full User Overview analysis\n",
    "& the following sub-tasks are your guidance:\n",
    "* Start by identifying the top 10 handsets used by the customers.\n",
    "* Then, identify the top 3 handset manufacturers\n",
    "* Next, identify the top 5 handsets per top 3 handset manufacturer\n",
    "* Make a short interpretation and recommendation to marketing teams\n",
    "\n",
    "<p>In telecommunication, CDR or Call Detail Record is the voice channel and XDR is\n",
    "the data channel equivalent. So here, consider xDR as data sessions Detail Record. In\n",
    "xDR, user behavior can be tracked through the following applications: Social Media,\n",
    "Google, Email, Youtube, Netflix, Gaming, Other.</p>"
   ]
  },
  {
   "cell_type": "markdown",
   "id": "04e9572a",
   "metadata": {},
   "source": [
    "### Top 10 handsets used by the customers."
   ]
  },
  {
   "cell_type": "code",
   "execution_count": null,
   "id": "705ff1b1",
   "metadata": {},
   "outputs": [],
   "source": [
    "handsetType = df['Handset Type'].value_counts()[:10]\n",
    "handsetType"
   ]
  },
  {
   "cell_type": "code",
   "execution_count": null,
   "id": "a8595d0b",
   "metadata": {},
   "outputs": [],
   "source": [
    "topHandsetType = df.groupby(['Handset Type']).agg({'Handset Type': ['count']})\n",
    "topHandsetType.columns = ['count']\n",
    "topHandsetType = topHandsetType.reset_index()\n",
    "topHandsetType.head()"
   ]
  },
  {
   "cell_type": "code",
   "execution_count": null,
   "id": "d0c51ec1",
   "metadata": {
    "scrolled": true
   },
   "outputs": [],
   "source": [
    "topHandsetType = topHandsetType.nlargest(10, 'count')\n",
    "topHandsetType = topHandsetType.reset_index(drop=True)\n",
    "print('############################################')\n",
    "print('Top 10 handsets used by customers')\n",
    "print('############################################')\n",
    "topHandsetType"
   ]
  },
  {
   "cell_type": "code",
   "execution_count": null,
   "id": "e9b4d843",
   "metadata": {},
   "outputs": [],
   "source": [
    "topHandsetType.plot.bar(x='Handset Type' ,stacked=True, color='red')"
   ]
  },
  {
   "cell_type": "markdown",
   "id": "0dbbf193",
   "metadata": {},
   "source": [
    "### Top 3 handset manufacturers"
   ]
  },
  {
   "cell_type": "code",
   "execution_count": null,
   "id": "39126b88",
   "metadata": {},
   "outputs": [],
   "source": [
    "topHandsetComp = df['Handset Manufacturer'].value_counts()[:3]\n",
    "topHandsetComp"
   ]
  },
  {
   "cell_type": "code",
   "execution_count": null,
   "id": "70d5eca6",
   "metadata": {},
   "outputs": [],
   "source": [
    "topHandsetManu = df.groupby(['Handset Manufacturer']).agg({'Handset Manufacturer': ['count']})\n",
    "topHandsetManu.columns = ['count']\n",
    "topHandsetManu = topHandsetManu.reset_index()\n",
    "topHandsetManu.head()"
   ]
  },
  {
   "cell_type": "code",
   "execution_count": null,
   "id": "6d0346ae",
   "metadata": {},
   "outputs": [],
   "source": [
    "topHandsetManu = topHandsetManu.nlargest(3, 'count')\n",
    "topHandsetManu = topHandsetManu.reset_index(drop=True)\n",
    "print('############################################')\n",
    "print('Top 3 handsets Manufacturer')\n",
    "print('############################################')\n",
    "topHandsetManu"
   ]
  },
  {
   "cell_type": "code",
   "execution_count": null,
   "id": "d457c9d3",
   "metadata": {},
   "outputs": [],
   "source": [
    "topHandsetManu.plot.bar(x='Handset Manufacturer' , stacked=True, color='black')"
   ]
  },
  {
   "cell_type": "markdown",
   "id": "fcce3a74",
   "metadata": {},
   "source": [
    "### Top 5 handsets per top 3 handset manufacturer"
   ]
  },
  {
   "cell_type": "code",
   "execution_count": null,
   "id": "e54c7216",
   "metadata": {},
   "outputs": [],
   "source": [
    "appleTop = df.loc[df['Handset Manufacturer'] == 'Apple']\n",
    "appleTop = appleTop.groupby(['Handset Manufacturer', 'Handset Type']).agg({'Handset Type': ['count']})\n",
    "appleTop.columns = ['count']\n",
    "appleTop=appleTop.nlargest(5, 'count')\n",
    "appleTop"
   ]
  },
  {
   "cell_type": "code",
   "execution_count": null,
   "id": "68e28cf5",
   "metadata": {
    "scrolled": false
   },
   "outputs": [],
   "source": [
    "appleTop.plot.bar(y='count', stacked=True, color='blue')"
   ]
  },
  {
   "cell_type": "code",
   "execution_count": null,
   "id": "8ddc4cab",
   "metadata": {},
   "outputs": [],
   "source": [
    "samTop = df.loc[df['Handset Manufacturer'] == 'Samsung']\n",
    "samTop = samTop.groupby(['Handset Manufacturer', 'Handset Type']).agg({'Handset Type': ['count']})\n",
    "samTop.columns = ['count']\n",
    "samTop=samTop.nlargest(5, 'count')\n",
    "samTop"
   ]
  },
  {
   "cell_type": "code",
   "execution_count": null,
   "id": "f991beec",
   "metadata": {},
   "outputs": [],
   "source": [
    "samTop.plot.bar(y='count', stacked=True, color='green')"
   ]
  },
  {
   "cell_type": "code",
   "execution_count": null,
   "id": "e5c8c5ea",
   "metadata": {},
   "outputs": [],
   "source": [
    "huwTop = df.loc[df['Handset Manufacturer'] == 'Huawei']\n",
    "huwTop = huwTop.groupby(['Handset Manufacturer', 'Handset Type']).agg({'Handset Type': ['count']})\n",
    "huwTop.columns = ['count']\n",
    "huwTop=huwTop.nlargest(5, 'count')\n",
    "huwTop"
   ]
  },
  {
   "cell_type": "code",
   "execution_count": null,
   "id": "13105ee8",
   "metadata": {},
   "outputs": [],
   "source": [
    "huwTop.plot.bar(y='count', stacked=True, color='yellow')"
   ]
  },
  {
   "cell_type": "code",
   "execution_count": null,
   "id": "6f0a477b",
   "metadata": {},
   "outputs": [],
   "source": [
    "top5 = df.loc[:,['Handset Type','Handset Manufacturer']]\n",
    "value = top5.groupby(['Handset Manufacturer', 'Handset Type']).size()\n",
    "topList = pd.Series(dtype='object')\n",
    "for i in topHandsetComp.index:\n",
    "    topList = topList.append(value[i])\n",
    "top5List = topList.sort_values(ascending=False)[:5]"
   ]
  },
  {
   "cell_type": "code",
   "execution_count": null,
   "id": "7ab97afd",
   "metadata": {},
   "outputs": [],
   "source": [
    "top5List"
   ]
  },
  {
   "cell_type": "code",
   "execution_count": null,
   "id": "48e3fcd3",
   "metadata": {
    "scrolled": false
   },
   "outputs": [],
   "source": [
    "top5List.plot.bar(y='count', stacked=True, color='red')"
   ]
  },
  {
   "cell_type": "markdown",
   "id": "9c734abe",
   "metadata": {},
   "source": [
    "**Apple**, **Samsung**, and **Huawei** phones are among the most popular on the network, \n",
    "accounting for 134,827 users. Hwawei B528S-23A is the most popular phone, accounting \n",
    "for 19752 units. Apple iPhone 6S, 6, 7, and Se are the next 4 big popular phones after Huawei. Users prefer the Huawei B528S-23A, so we know that selling more and similar Huawei phones, running promotions on their similar product will account for success in future busenesses. This also will apply to the four models of Apple."
   ]
  },
  {
   "cell_type": "markdown",
   "id": "10d1e8ec",
   "metadata": {},
   "source": [
    "### Task 1.1 - Your employer wants to have an overview of the users’ behavior on those applications.\n",
    "* Aggregate per user the following information in the column number of xDR sessions\n",
    "* Session duration\n",
    "* the total download (DL) and upload (UL) data\n",
    "* the total data volume (in Bytes) during this session for each application"
   ]
  },
  {
   "cell_type": "markdown",
   "id": "2609eca6",
   "metadata": {},
   "source": [
    "# Data Information "
   ]
  },
  {
   "cell_type": "code",
   "execution_count": null,
   "id": "d641b126",
   "metadata": {},
   "outputs": [],
   "source": [
    "import os, sys\n",
    "import pandas as pd\n",
    "import numpy as np\n",
    "# package scripts in the script module folder \n",
    "sys.path.insert(0,'../scripts/')\n",
    "from data_preProcessing import data_preProcessing_script "
   ]
  },
  {
   "cell_type": "code",
   "execution_count": null,
   "id": "caaa2fbe",
   "metadata": {},
   "outputs": [],
   "source": [
    "# object of the script class\n",
    "preProcess = data_preProcessing_script(df)"
   ]
  },
  {
   "cell_type": "code",
   "execution_count": null,
   "id": "c9b257bc",
   "metadata": {
    "scrolled": true
   },
   "outputs": [],
   "source": [
    "preProcess.show_datatypes()"
   ]
  },
  {
   "cell_type": "markdown",
   "id": "d83b75be",
   "metadata": {},
   "source": [
    "### dtypes\n",
    "* `Start` and `End` are `datetime64` type\n",
    "* `Handset Manufacturer`, `Handset Type` and `Last Location Name` are object(string) types\n",
    "* All others are `float64` types  "
   ]
  },
  {
   "cell_type": "code",
   "execution_count": null,
   "id": "9ec5c839",
   "metadata": {},
   "outputs": [],
   "source": [
    "#getting the summary of our dataframe, the null values\n",
    "preProcess.show_data_information()"
   ]
  },
  {
   "cell_type": "code",
   "execution_count": null,
   "id": "b0030581",
   "metadata": {},
   "outputs": [],
   "source": [
    "preProcess.show_correlation()"
   ]
  },
  {
   "cell_type": "markdown",
   "id": "07962649",
   "metadata": {},
   "source": [
    "# Data Cleaning and Manipulation"
   ]
  },
  {
   "cell_type": "code",
   "execution_count": null,
   "id": "2f49d034",
   "metadata": {},
   "outputs": [],
   "source": [
    "# droping duplicate rows\n",
    "preProcess.drop_duplicates()"
   ]
  },
  {
   "cell_type": "code",
   "execution_count": null,
   "id": "e146cdd6",
   "metadata": {},
   "outputs": [],
   "source": [
    "#changing bytes to megabytes\n",
    "preProcess.convertByteMB(['Total UL (Bytes)', 'Total DL (Bytes)', 'Social Media DL (Bytes)', 'Social Media UL (Bytes)',\n",
    "'Google DL (Bytes)', 'Google UL (Bytes)', 'Email DL (Bytes)', 'Email UL (Bytes)', 'Youtube DL (Bytes)', 'Youtube UL (Bytes)', 'Netflix DL (Bytes)', 'Netflix UL (Bytes)', 'Gaming DL (Bytes)','Gaming UL (Bytes)', 'Other DL (Bytes)', 'Other UL (Bytes)'])"
   ]
  },
  {
   "cell_type": "code",
   "execution_count": null,
   "id": "5dafb637",
   "metadata": {},
   "outputs": [],
   "source": [
    "preProcess.colums_WithMissingValue()"
   ]
  },
  {
   "cell_type": "code",
   "execution_count": null,
   "id": "e5dfaddc",
   "metadata": {},
   "outputs": [],
   "source": [
    "preProcess.get_column_based_missing_percentage()"
   ]
  },
  {
   "cell_type": "code",
   "execution_count": null,
   "id": "69875991",
   "metadata": {},
   "outputs": [],
   "source": []
  }
 ],
 "metadata": {
  "kernelspec": {
   "display_name": "Python 3 (ipykernel)",
   "language": "python",
   "name": "python3"
  },
  "language_info": {
   "codemirror_mode": {
    "name": "ipython",
    "version": 3
   },
   "file_extension": ".py",
   "mimetype": "text/x-python",
   "name": "python",
   "nbconvert_exporter": "python",
   "pygments_lexer": "ipython3",
   "version": "3.9.7"
  }
 },
 "nbformat": 4,
 "nbformat_minor": 5
}
