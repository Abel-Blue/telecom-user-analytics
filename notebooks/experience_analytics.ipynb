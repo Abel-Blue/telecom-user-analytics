{
 "cells": [
  {
   "cell_type": "markdown",
   "id": "60d81510",
   "metadata": {},
   "source": [
    "# Experience Analytics"
   ]
  },
  {
   "cell_type": "code",
   "execution_count": 1,
   "id": "00050ac8",
   "metadata": {},
   "outputs": [],
   "source": [
    "#importing libraries\n",
    "import pandas as pd\n",
    "import numpy as np\n",
    "import plotly.graph_objects as go\n",
    "import plotly.express as px\n",
    "import seaborn as sns\n",
    "import matplotlib.pyplot as plt\n",
    "%matplotlib inline\n",
    "from statistics import *\n",
    "from sklearn import preprocessing\n",
    "from sklearn.cluster import KMeans\n",
    "from sklearn.preprocessing import StandardScaler"
   ]
  },
  {
   "cell_type": "code",
   "execution_count": 4,
   "id": "e3026374",
   "metadata": {},
   "outputs": [
    {
     "data": {
      "text/html": [
       "<div>\n",
       "<style scoped>\n",
       "    .dataframe tbody tr th:only-of-type {\n",
       "        vertical-align: middle;\n",
       "    }\n",
       "\n",
       "    .dataframe tbody tr th {\n",
       "        vertical-align: top;\n",
       "    }\n",
       "\n",
       "    .dataframe thead th {\n",
       "        text-align: right;\n",
       "    }\n",
       "</style>\n",
       "<table border=\"1\" class=\"dataframe\">\n",
       "  <thead>\n",
       "    <tr style=\"text-align: right;\">\n",
       "      <th></th>\n",
       "      <th>Bearer Id</th>\n",
       "      <th>Start</th>\n",
       "      <th>Start ms</th>\n",
       "      <th>End</th>\n",
       "      <th>End ms</th>\n",
       "      <th>Dur. (ms)</th>\n",
       "      <th>IMSI</th>\n",
       "      <th>MSISDN/Number</th>\n",
       "      <th>IMEI</th>\n",
       "      <th>Last Location Name</th>\n",
       "      <th>...</th>\n",
       "      <th>Youtube DL (Bytes)</th>\n",
       "      <th>Youtube UL (Bytes)</th>\n",
       "      <th>Netflix DL (Bytes)</th>\n",
       "      <th>Netflix UL (Bytes)</th>\n",
       "      <th>Gaming DL (Bytes)</th>\n",
       "      <th>Gaming UL (Bytes)</th>\n",
       "      <th>Other DL (Bytes)</th>\n",
       "      <th>Other UL (Bytes)</th>\n",
       "      <th>Total UL (Bytes)</th>\n",
       "      <th>Total DL (Bytes)</th>\n",
       "    </tr>\n",
       "  </thead>\n",
       "  <tbody>\n",
       "    <tr>\n",
       "      <th>0</th>\n",
       "      <td>1.311448e+19</td>\n",
       "      <td>2019-04-04 12:01:18</td>\n",
       "      <td>770.0</td>\n",
       "      <td>2019-04-25 14:35:31</td>\n",
       "      <td>662.0</td>\n",
       "      <td>1823652.0</td>\n",
       "      <td>2.082014e+14</td>\n",
       "      <td>3.366496e+10</td>\n",
       "      <td>3.552121e+13</td>\n",
       "      <td>9164566995485190</td>\n",
       "      <td>...</td>\n",
       "      <td>15854611.0</td>\n",
       "      <td>2501332.0</td>\n",
       "      <td>8198936.0</td>\n",
       "      <td>9656251.0</td>\n",
       "      <td>278082303.0</td>\n",
       "      <td>14344150.0</td>\n",
       "      <td>171744450.0</td>\n",
       "      <td>8814393.0</td>\n",
       "      <td>36749741.0</td>\n",
       "      <td>308879636.0</td>\n",
       "    </tr>\n",
       "    <tr>\n",
       "      <th>1</th>\n",
       "      <td>1.311448e+19</td>\n",
       "      <td>2019-04-09 13:04:04</td>\n",
       "      <td>235.0</td>\n",
       "      <td>2019-04-25 08:15:48</td>\n",
       "      <td>606.0</td>\n",
       "      <td>1365104.0</td>\n",
       "      <td>2.082019e+14</td>\n",
       "      <td>3.368185e+10</td>\n",
       "      <td>3.579401e+13</td>\n",
       "      <td>L77566A</td>\n",
       "      <td>...</td>\n",
       "      <td>20247395.0</td>\n",
       "      <td>19111729.0</td>\n",
       "      <td>18338413.0</td>\n",
       "      <td>17227132.0</td>\n",
       "      <td>608750074.0</td>\n",
       "      <td>1170709.0</td>\n",
       "      <td>526904238.0</td>\n",
       "      <td>15055145.0</td>\n",
       "      <td>53800391.0</td>\n",
       "      <td>653384965.0</td>\n",
       "    </tr>\n",
       "    <tr>\n",
       "      <th>2</th>\n",
       "      <td>1.311448e+19</td>\n",
       "      <td>2019-04-09 17:42:11</td>\n",
       "      <td>1.0</td>\n",
       "      <td>2019-04-25 11:58:13</td>\n",
       "      <td>652.0</td>\n",
       "      <td>1361762.0</td>\n",
       "      <td>2.082003e+14</td>\n",
       "      <td>3.376063e+10</td>\n",
       "      <td>3.528151e+13</td>\n",
       "      <td>D42335A</td>\n",
       "      <td>...</td>\n",
       "      <td>19725661.0</td>\n",
       "      <td>14699576.0</td>\n",
       "      <td>17587794.0</td>\n",
       "      <td>6163408.0</td>\n",
       "      <td>229584621.0</td>\n",
       "      <td>395630.0</td>\n",
       "      <td>410692588.0</td>\n",
       "      <td>4215763.0</td>\n",
       "      <td>27883638.0</td>\n",
       "      <td>279807335.0</td>\n",
       "    </tr>\n",
       "    <tr>\n",
       "      <th>3</th>\n",
       "      <td>1.311448e+19</td>\n",
       "      <td>2019-04-10 00:31:25</td>\n",
       "      <td>486.0</td>\n",
       "      <td>2019-04-25 07:36:35</td>\n",
       "      <td>171.0</td>\n",
       "      <td>1321509.0</td>\n",
       "      <td>2.082014e+14</td>\n",
       "      <td>3.375034e+10</td>\n",
       "      <td>3.535661e+13</td>\n",
       "      <td>T21824A</td>\n",
       "      <td>...</td>\n",
       "      <td>21388122.0</td>\n",
       "      <td>15146643.0</td>\n",
       "      <td>13994646.0</td>\n",
       "      <td>1097942.0</td>\n",
       "      <td>799538153.0</td>\n",
       "      <td>10849722.0</td>\n",
       "      <td>749039933.0</td>\n",
       "      <td>12797283.0</td>\n",
       "      <td>43324218.0</td>\n",
       "      <td>846028530.0</td>\n",
       "    </tr>\n",
       "    <tr>\n",
       "      <th>4</th>\n",
       "      <td>1.311448e+19</td>\n",
       "      <td>2019-04-12 20:10:23</td>\n",
       "      <td>565.0</td>\n",
       "      <td>2019-04-25 10:40:32</td>\n",
       "      <td>954.0</td>\n",
       "      <td>1089009.0</td>\n",
       "      <td>2.082014e+14</td>\n",
       "      <td>3.369980e+10</td>\n",
       "      <td>3.540701e+13</td>\n",
       "      <td>D88865A</td>\n",
       "      <td>...</td>\n",
       "      <td>15259380.0</td>\n",
       "      <td>18962873.0</td>\n",
       "      <td>17124581.0</td>\n",
       "      <td>415218.0</td>\n",
       "      <td>527707248.0</td>\n",
       "      <td>3529801.0</td>\n",
       "      <td>550709500.0</td>\n",
       "      <td>13910322.0</td>\n",
       "      <td>38542814.0</td>\n",
       "      <td>569138589.0</td>\n",
       "    </tr>\n",
       "  </tbody>\n",
       "</table>\n",
       "<p>5 rows × 55 columns</p>\n",
       "</div>"
      ],
      "text/plain": [
       "      Bearer Id               Start  Start ms                 End  End ms  \\\n",
       "0  1.311448e+19 2019-04-04 12:01:18     770.0 2019-04-25 14:35:31   662.0   \n",
       "1  1.311448e+19 2019-04-09 13:04:04     235.0 2019-04-25 08:15:48   606.0   \n",
       "2  1.311448e+19 2019-04-09 17:42:11       1.0 2019-04-25 11:58:13   652.0   \n",
       "3  1.311448e+19 2019-04-10 00:31:25     486.0 2019-04-25 07:36:35   171.0   \n",
       "4  1.311448e+19 2019-04-12 20:10:23     565.0 2019-04-25 10:40:32   954.0   \n",
       "\n",
       "   Dur. (ms)          IMSI  MSISDN/Number          IMEI Last Location Name  \\\n",
       "0  1823652.0  2.082014e+14   3.366496e+10  3.552121e+13   9164566995485190   \n",
       "1  1365104.0  2.082019e+14   3.368185e+10  3.579401e+13            L77566A   \n",
       "2  1361762.0  2.082003e+14   3.376063e+10  3.528151e+13            D42335A   \n",
       "3  1321509.0  2.082014e+14   3.375034e+10  3.535661e+13            T21824A   \n",
       "4  1089009.0  2.082014e+14   3.369980e+10  3.540701e+13            D88865A   \n",
       "\n",
       "   ...  Youtube DL (Bytes)  Youtube UL (Bytes)  Netflix DL (Bytes)  \\\n",
       "0  ...          15854611.0           2501332.0           8198936.0   \n",
       "1  ...          20247395.0          19111729.0          18338413.0   \n",
       "2  ...          19725661.0          14699576.0          17587794.0   \n",
       "3  ...          21388122.0          15146643.0          13994646.0   \n",
       "4  ...          15259380.0          18962873.0          17124581.0   \n",
       "\n",
       "   Netflix UL (Bytes)  Gaming DL (Bytes)  Gaming UL (Bytes)  Other DL (Bytes)  \\\n",
       "0           9656251.0        278082303.0         14344150.0       171744450.0   \n",
       "1          17227132.0        608750074.0          1170709.0       526904238.0   \n",
       "2           6163408.0        229584621.0           395630.0       410692588.0   \n",
       "3           1097942.0        799538153.0         10849722.0       749039933.0   \n",
       "4            415218.0        527707248.0          3529801.0       550709500.0   \n",
       "\n",
       "   Other UL (Bytes)  Total UL (Bytes)  Total DL (Bytes)  \n",
       "0         8814393.0        36749741.0       308879636.0  \n",
       "1        15055145.0        53800391.0       653384965.0  \n",
       "2         4215763.0        27883638.0       279807335.0  \n",
       "3        12797283.0        43324218.0       846028530.0  \n",
       "4        13910322.0        38542814.0       569138589.0  \n",
       "\n",
       "[5 rows x 55 columns]"
      ]
     },
     "execution_count": 4,
     "metadata": {},
     "output_type": "execute_result"
    }
   ],
   "source": [
    "#Reading the data\n",
    "df=pd.read_excel(\"../data/Week1_challenge_data_source.xlsx\")\n",
    "df.head()"
   ]
  },
  {
   "cell_type": "code",
   "execution_count": 6,
   "id": "f2af3ed1",
   "metadata": {},
   "outputs": [
    {
     "data": {
      "text/plain": [
       "Index(['Bearer Id', 'Start', 'Start ms', 'End', 'End ms', 'Dur. (ms)', 'IMSI',\n",
       "       'MSISDN/Number', 'IMEI', 'Last Location Name', 'Avg RTT DL (ms)',\n",
       "       'Avg RTT UL (ms)', 'Avg Bearer TP DL (kbps)', 'Avg Bearer TP UL (kbps)',\n",
       "       'TCP DL Retrans. Vol (Bytes)', 'TCP UL Retrans. Vol (Bytes)',\n",
       "       'DL TP < 50 Kbps (%)', '50 Kbps < DL TP < 250 Kbps (%)',\n",
       "       '250 Kbps < DL TP < 1 Mbps (%)', 'DL TP > 1 Mbps (%)',\n",
       "       'UL TP < 10 Kbps (%)', '10 Kbps < UL TP < 50 Kbps (%)',\n",
       "       '50 Kbps < UL TP < 300 Kbps (%)', 'UL TP > 300 Kbps (%)',\n",
       "       'HTTP DL (Bytes)', 'HTTP UL (Bytes)', 'Activity Duration DL (ms)',\n",
       "       'Activity Duration UL (ms)', 'Dur. (ms).1', 'Handset Manufacturer',\n",
       "       'Handset Type', 'Nb of sec with 125000B < Vol DL',\n",
       "       'Nb of sec with 1250B < Vol UL < 6250B',\n",
       "       'Nb of sec with 31250B < Vol DL < 125000B',\n",
       "       'Nb of sec with 37500B < Vol UL',\n",
       "       'Nb of sec with 6250B < Vol DL < 31250B',\n",
       "       'Nb of sec with 6250B < Vol UL < 37500B',\n",
       "       'Nb of sec with Vol DL < 6250B', 'Nb of sec with Vol UL < 1250B',\n",
       "       'Social Media DL (Bytes)', 'Social Media UL (Bytes)',\n",
       "       'Google DL (Bytes)', 'Google UL (Bytes)', 'Email DL (Bytes)',\n",
       "       'Email UL (Bytes)', 'Youtube DL (Bytes)', 'Youtube UL (Bytes)',\n",
       "       'Netflix DL (Bytes)', 'Netflix UL (Bytes)', 'Gaming DL (Bytes)',\n",
       "       'Gaming UL (Bytes)', 'Other DL (Bytes)', 'Other UL (Bytes)',\n",
       "       'Total UL (Bytes)', 'Total DL (Bytes)'],\n",
       "      dtype='object')"
      ]
     },
     "execution_count": 6,
     "metadata": {},
     "output_type": "execute_result"
    }
   ],
   "source": [
    "df.columns"
   ]
  },
  {
   "cell_type": "code",
   "execution_count": 8,
   "id": "a15dd4d1",
   "metadata": {},
   "outputs": [],
   "source": [
    "df_exp = df.copy(deep=True)"
   ]
  },
  {
   "cell_type": "code",
   "execution_count": 14,
   "id": "b1f93449",
   "metadata": {},
   "outputs": [
    {
     "data": {
      "text/html": [
       "<div>\n",
       "<style scoped>\n",
       "    .dataframe tbody tr th:only-of-type {\n",
       "        vertical-align: middle;\n",
       "    }\n",
       "\n",
       "    .dataframe tbody tr th {\n",
       "        vertical-align: top;\n",
       "    }\n",
       "\n",
       "    .dataframe thead th {\n",
       "        text-align: right;\n",
       "    }\n",
       "</style>\n",
       "<table border=\"1\" class=\"dataframe\">\n",
       "  <thead>\n",
       "    <tr style=\"text-align: right;\">\n",
       "      <th></th>\n",
       "      <th>MSISDN/Number</th>\n",
       "      <th>Handset Type</th>\n",
       "      <th>Avg RTT DL (ms)</th>\n",
       "      <th>Avg RTT UL (ms)</th>\n",
       "      <th>TCP DL Retrans. Vol (Bytes)</th>\n",
       "      <th>TCP UL Retrans. Vol (Bytes)</th>\n",
       "      <th>Avg Bearer TP DL (kbps)</th>\n",
       "      <th>Avg Bearer TP UL (kbps)</th>\n",
       "    </tr>\n",
       "  </thead>\n",
       "  <tbody>\n",
       "    <tr>\n",
       "      <th>0</th>\n",
       "      <td>3.366496e+10</td>\n",
       "      <td>Samsung Galaxy A5 Sm-A520F</td>\n",
       "      <td>42.0</td>\n",
       "      <td>5.0</td>\n",
       "      <td>NaN</td>\n",
       "      <td>NaN</td>\n",
       "      <td>23.0</td>\n",
       "      <td>44.0</td>\n",
       "    </tr>\n",
       "    <tr>\n",
       "      <th>1</th>\n",
       "      <td>3.368185e+10</td>\n",
       "      <td>Samsung Galaxy J5 (Sm-J530)</td>\n",
       "      <td>65.0</td>\n",
       "      <td>5.0</td>\n",
       "      <td>NaN</td>\n",
       "      <td>NaN</td>\n",
       "      <td>16.0</td>\n",
       "      <td>26.0</td>\n",
       "    </tr>\n",
       "    <tr>\n",
       "      <th>2</th>\n",
       "      <td>3.376063e+10</td>\n",
       "      <td>Samsung Galaxy A8 (2018)</td>\n",
       "      <td>NaN</td>\n",
       "      <td>NaN</td>\n",
       "      <td>NaN</td>\n",
       "      <td>NaN</td>\n",
       "      <td>6.0</td>\n",
       "      <td>9.0</td>\n",
       "    </tr>\n",
       "    <tr>\n",
       "      <th>3</th>\n",
       "      <td>3.375034e+10</td>\n",
       "      <td>undefined</td>\n",
       "      <td>NaN</td>\n",
       "      <td>NaN</td>\n",
       "      <td>NaN</td>\n",
       "      <td>NaN</td>\n",
       "      <td>44.0</td>\n",
       "      <td>44.0</td>\n",
       "    </tr>\n",
       "    <tr>\n",
       "      <th>4</th>\n",
       "      <td>3.369980e+10</td>\n",
       "      <td>Samsung Sm-G390F</td>\n",
       "      <td>NaN</td>\n",
       "      <td>NaN</td>\n",
       "      <td>NaN</td>\n",
       "      <td>NaN</td>\n",
       "      <td>6.0</td>\n",
       "      <td>9.0</td>\n",
       "    </tr>\n",
       "  </tbody>\n",
       "</table>\n",
       "</div>"
      ],
      "text/plain": [
       "   MSISDN/Number                 Handset Type  Avg RTT DL (ms)  \\\n",
       "0   3.366496e+10   Samsung Galaxy A5 Sm-A520F             42.0   \n",
       "1   3.368185e+10  Samsung Galaxy J5 (Sm-J530)             65.0   \n",
       "2   3.376063e+10     Samsung Galaxy A8 (2018)              NaN   \n",
       "3   3.375034e+10                    undefined              NaN   \n",
       "4   3.369980e+10             Samsung Sm-G390F              NaN   \n",
       "\n",
       "   Avg RTT UL (ms)  TCP DL Retrans. Vol (Bytes)  TCP UL Retrans. Vol (Bytes)  \\\n",
       "0              5.0                          NaN                          NaN   \n",
       "1              5.0                          NaN                          NaN   \n",
       "2              NaN                          NaN                          NaN   \n",
       "3              NaN                          NaN                          NaN   \n",
       "4              NaN                          NaN                          NaN   \n",
       "\n",
       "   Avg Bearer TP DL (kbps)  Avg Bearer TP UL (kbps)  \n",
       "0                     23.0                     44.0  \n",
       "1                     16.0                     26.0  \n",
       "2                      6.0                      9.0  \n",
       "3                     44.0                     44.0  \n",
       "4                      6.0                      9.0  "
      ]
     },
     "execution_count": 14,
     "metadata": {},
     "output_type": "execute_result"
    }
   ],
   "source": [
    "df_exp.head()"
   ]
  },
  {
   "cell_type": "markdown",
   "id": "0228f44d",
   "metadata": {},
   "source": [
    "## Aggregate Network Parameters"
   ]
  },
  {
   "cell_type": "markdown",
   "id": "645da488",
   "metadata": {},
   "source": [
    "Aggregate, per customer, the following information (treat missing & outliers by replacing by the mean or the mode of the corresponding variable):\n",
    "* Average TCP retransmission\n",
    "* Average RTT\n",
    "* Handset type\n",
    "* Average throughput"
   ]
  },
  {
   "cell_type": "code",
   "execution_count": 12,
   "id": "3aabddbd",
   "metadata": {},
   "outputs": [],
   "source": [
    "df_exp = df_exp[['MSISDN/Number','Handset Type','Avg RTT DL (ms)','Avg RTT UL (ms)',\n",
    "                 'TCP DL Retrans. Vol (Bytes)','TCP UL Retrans. Vol (Bytes)',\n",
    "                 'Avg Bearer TP DL (kbps)','Avg Bearer TP UL (kbps)']]"
   ]
  },
  {
   "cell_type": "code",
   "execution_count": 13,
   "id": "815443cc",
   "metadata": {},
   "outputs": [
    {
     "data": {
      "text/html": [
       "<div>\n",
       "<style scoped>\n",
       "    .dataframe tbody tr th:only-of-type {\n",
       "        vertical-align: middle;\n",
       "    }\n",
       "\n",
       "    .dataframe tbody tr th {\n",
       "        vertical-align: top;\n",
       "    }\n",
       "\n",
       "    .dataframe thead th {\n",
       "        text-align: right;\n",
       "    }\n",
       "</style>\n",
       "<table border=\"1\" class=\"dataframe\">\n",
       "  <thead>\n",
       "    <tr style=\"text-align: right;\">\n",
       "      <th></th>\n",
       "      <th>MSISDN/Number</th>\n",
       "      <th>Handset Type</th>\n",
       "      <th>Avg RTT DL (ms)</th>\n",
       "      <th>Avg RTT UL (ms)</th>\n",
       "      <th>TCP DL Retrans. Vol (Bytes)</th>\n",
       "      <th>TCP UL Retrans. Vol (Bytes)</th>\n",
       "      <th>Avg Bearer TP DL (kbps)</th>\n",
       "      <th>Avg Bearer TP UL (kbps)</th>\n",
       "    </tr>\n",
       "  </thead>\n",
       "  <tbody>\n",
       "    <tr>\n",
       "      <th>0</th>\n",
       "      <td>3.366496e+10</td>\n",
       "      <td>Samsung Galaxy A5 Sm-A520F</td>\n",
       "      <td>42.0</td>\n",
       "      <td>5.0</td>\n",
       "      <td>NaN</td>\n",
       "      <td>NaN</td>\n",
       "      <td>23.0</td>\n",
       "      <td>44.0</td>\n",
       "    </tr>\n",
       "    <tr>\n",
       "      <th>1</th>\n",
       "      <td>3.368185e+10</td>\n",
       "      <td>Samsung Galaxy J5 (Sm-J530)</td>\n",
       "      <td>65.0</td>\n",
       "      <td>5.0</td>\n",
       "      <td>NaN</td>\n",
       "      <td>NaN</td>\n",
       "      <td>16.0</td>\n",
       "      <td>26.0</td>\n",
       "    </tr>\n",
       "    <tr>\n",
       "      <th>2</th>\n",
       "      <td>3.376063e+10</td>\n",
       "      <td>Samsung Galaxy A8 (2018)</td>\n",
       "      <td>NaN</td>\n",
       "      <td>NaN</td>\n",
       "      <td>NaN</td>\n",
       "      <td>NaN</td>\n",
       "      <td>6.0</td>\n",
       "      <td>9.0</td>\n",
       "    </tr>\n",
       "    <tr>\n",
       "      <th>3</th>\n",
       "      <td>3.375034e+10</td>\n",
       "      <td>undefined</td>\n",
       "      <td>NaN</td>\n",
       "      <td>NaN</td>\n",
       "      <td>NaN</td>\n",
       "      <td>NaN</td>\n",
       "      <td>44.0</td>\n",
       "      <td>44.0</td>\n",
       "    </tr>\n",
       "    <tr>\n",
       "      <th>4</th>\n",
       "      <td>3.369980e+10</td>\n",
       "      <td>Samsung Sm-G390F</td>\n",
       "      <td>NaN</td>\n",
       "      <td>NaN</td>\n",
       "      <td>NaN</td>\n",
       "      <td>NaN</td>\n",
       "      <td>6.0</td>\n",
       "      <td>9.0</td>\n",
       "    </tr>\n",
       "  </tbody>\n",
       "</table>\n",
       "</div>"
      ],
      "text/plain": [
       "   MSISDN/Number                 Handset Type  Avg RTT DL (ms)  \\\n",
       "0   3.366496e+10   Samsung Galaxy A5 Sm-A520F             42.0   \n",
       "1   3.368185e+10  Samsung Galaxy J5 (Sm-J530)             65.0   \n",
       "2   3.376063e+10     Samsung Galaxy A8 (2018)              NaN   \n",
       "3   3.375034e+10                    undefined              NaN   \n",
       "4   3.369980e+10             Samsung Sm-G390F              NaN   \n",
       "\n",
       "   Avg RTT UL (ms)  TCP DL Retrans. Vol (Bytes)  TCP UL Retrans. Vol (Bytes)  \\\n",
       "0              5.0                          NaN                          NaN   \n",
       "1              5.0                          NaN                          NaN   \n",
       "2              NaN                          NaN                          NaN   \n",
       "3              NaN                          NaN                          NaN   \n",
       "4              NaN                          NaN                          NaN   \n",
       "\n",
       "   Avg Bearer TP DL (kbps)  Avg Bearer TP UL (kbps)  \n",
       "0                     23.0                     44.0  \n",
       "1                     16.0                     26.0  \n",
       "2                      6.0                      9.0  \n",
       "3                     44.0                     44.0  \n",
       "4                      6.0                      9.0  "
      ]
     },
     "execution_count": 13,
     "metadata": {},
     "output_type": "execute_result"
    }
   ],
   "source": [
    "df_exp.head()"
   ]
  },
  {
   "cell_type": "markdown",
   "id": "7401becd",
   "metadata": {},
   "source": [
    "### Working with missing values"
   ]
  },
  {
   "cell_type": "code",
   "execution_count": 16,
   "id": "a6834711",
   "metadata": {},
   "outputs": [
    {
     "data": {
      "text/plain": [
       "MSISDN/Number                   1066\n",
       "Handset Type                     572\n",
       "Avg RTT DL (ms)                27829\n",
       "Avg RTT UL (ms)                27812\n",
       "TCP DL Retrans. Vol (Bytes)    88146\n",
       "TCP UL Retrans. Vol (Bytes)    96649\n",
       "Avg Bearer TP DL (kbps)            1\n",
       "Avg Bearer TP UL (kbps)            1\n",
       "dtype: int64"
      ]
     },
     "execution_count": 16,
     "metadata": {},
     "output_type": "execute_result"
    }
   ],
   "source": [
    "# missing colum names and there count\n",
    "df_exp.isnull().sum(axis=0)"
   ]
  },
  {
   "cell_type": "code",
   "execution_count": 17,
   "id": "f6f0b3d6",
   "metadata": {},
   "outputs": [],
   "source": [
    "# Filling the missing values using Mean\n",
    "df_exp['Avg RTT DL (ms)'].fillna(value=df_exp['Avg RTT DL (ms)'].mean(), inplace=True)\n",
    "df_exp['Avg RTT UL (ms)'].fillna(value=df_exp['Avg RTT UL (ms)'].mean(), inplace=True)"
   ]
  },
  {
   "cell_type": "code",
   "execution_count": 19,
   "id": "076ac6b6",
   "metadata": {},
   "outputs": [],
   "source": [
    "# TCP retransmission null values fill with mean\n",
    "df_exp['TCP DL Retrans. Vol (Bytes)'].fillna(value=df_exp['TCP DL Retrans. Vol (Bytes)'].mean(), inplace=True)\n",
    "df_exp['TCP UL Retrans. Vol (Bytes)'].fillna(value=df_exp['TCP UL Retrans. Vol (Bytes)'].mean(), inplace=True)"
   ]
  },
  {
   "cell_type": "code",
   "execution_count": 20,
   "id": "29d91872",
   "metadata": {},
   "outputs": [],
   "source": [
    "# Avg Bearer null values filled with mean\n",
    "df_exp['Avg Bearer TP DL (kbps)'].fillna(value=df_exp['Avg Bearer TP DL (kbps)'].mean(), inplace=True)\n",
    "df_exp['Avg Bearer TP UL (kbps)'].fillna(value=df_exp['Avg Bearer TP UL (kbps)'].mean(), inplace=True)"
   ]
  },
  {
   "cell_type": "code",
   "execution_count": 21,
   "id": "e049006e",
   "metadata": {},
   "outputs": [],
   "source": [
    "# Catagorical variabels null values filled with mode\n",
    "df_exp['Handset Type'].fillna(value=df_exp['Handset Type'].mode().iloc[0], inplace=True)\n",
    "df_exp['MSISDN/Number'].fillna(value=df_exp['MSISDN/Number'].mode().iloc[0], inplace=True)"
   ]
  },
  {
   "cell_type": "code",
   "execution_count": 22,
   "id": "34c7bfcf",
   "metadata": {},
   "outputs": [
    {
     "data": {
      "text/plain": [
       "MSISDN/Number                  0\n",
       "Handset Type                   0\n",
       "Avg RTT DL (ms)                0\n",
       "Avg RTT UL (ms)                0\n",
       "TCP DL Retrans. Vol (Bytes)    0\n",
       "TCP UL Retrans. Vol (Bytes)    0\n",
       "Avg Bearer TP DL (kbps)        0\n",
       "Avg Bearer TP UL (kbps)        0\n",
       "dtype: int64"
      ]
     },
     "execution_count": 22,
     "metadata": {},
     "output_type": "execute_result"
    }
   ],
   "source": [
    "# missing colum names and there count\n",
    "df_exp.isnull().sum(axis=0)"
   ]
  },
  {
   "cell_type": "code",
   "execution_count": 23,
   "id": "0406502c",
   "metadata": {},
   "outputs": [
    {
     "data": {
      "text/html": [
       "<div>\n",
       "<style scoped>\n",
       "    .dataframe tbody tr th:only-of-type {\n",
       "        vertical-align: middle;\n",
       "    }\n",
       "\n",
       "    .dataframe tbody tr th {\n",
       "        vertical-align: top;\n",
       "    }\n",
       "\n",
       "    .dataframe thead th {\n",
       "        text-align: right;\n",
       "    }\n",
       "</style>\n",
       "<table border=\"1\" class=\"dataframe\">\n",
       "  <thead>\n",
       "    <tr style=\"text-align: right;\">\n",
       "      <th></th>\n",
       "      <th>MSISDN/Number</th>\n",
       "      <th>Handset Type</th>\n",
       "      <th>Avg RTT DL (ms)</th>\n",
       "      <th>Avg RTT UL (ms)</th>\n",
       "      <th>TCP DL Retrans. Vol (Bytes)</th>\n",
       "      <th>TCP UL Retrans. Vol (Bytes)</th>\n",
       "      <th>Avg Bearer TP DL (kbps)</th>\n",
       "      <th>Avg Bearer TP UL (kbps)</th>\n",
       "    </tr>\n",
       "  </thead>\n",
       "  <tbody>\n",
       "    <tr>\n",
       "      <th>0</th>\n",
       "      <td>3.366496e+10</td>\n",
       "      <td>Samsung Galaxy A5 Sm-A520F</td>\n",
       "      <td>42.000000</td>\n",
       "      <td>5.000000</td>\n",
       "      <td>2.080991e+07</td>\n",
       "      <td>759658.664811</td>\n",
       "      <td>23.0</td>\n",
       "      <td>44.0</td>\n",
       "    </tr>\n",
       "    <tr>\n",
       "      <th>1</th>\n",
       "      <td>3.368185e+10</td>\n",
       "      <td>Samsung Galaxy J5 (Sm-J530)</td>\n",
       "      <td>65.000000</td>\n",
       "      <td>5.000000</td>\n",
       "      <td>2.080991e+07</td>\n",
       "      <td>759658.664811</td>\n",
       "      <td>16.0</td>\n",
       "      <td>26.0</td>\n",
       "    </tr>\n",
       "    <tr>\n",
       "      <th>2</th>\n",
       "      <td>3.376063e+10</td>\n",
       "      <td>Samsung Galaxy A8 (2018)</td>\n",
       "      <td>109.795706</td>\n",
       "      <td>17.662883</td>\n",
       "      <td>2.080991e+07</td>\n",
       "      <td>759658.664811</td>\n",
       "      <td>6.0</td>\n",
       "      <td>9.0</td>\n",
       "    </tr>\n",
       "    <tr>\n",
       "      <th>3</th>\n",
       "      <td>3.375034e+10</td>\n",
       "      <td>undefined</td>\n",
       "      <td>109.795706</td>\n",
       "      <td>17.662883</td>\n",
       "      <td>2.080991e+07</td>\n",
       "      <td>759658.664811</td>\n",
       "      <td>44.0</td>\n",
       "      <td>44.0</td>\n",
       "    </tr>\n",
       "    <tr>\n",
       "      <th>4</th>\n",
       "      <td>3.369980e+10</td>\n",
       "      <td>Samsung Sm-G390F</td>\n",
       "      <td>109.795706</td>\n",
       "      <td>17.662883</td>\n",
       "      <td>2.080991e+07</td>\n",
       "      <td>759658.664811</td>\n",
       "      <td>6.0</td>\n",
       "      <td>9.0</td>\n",
       "    </tr>\n",
       "  </tbody>\n",
       "</table>\n",
       "</div>"
      ],
      "text/plain": [
       "   MSISDN/Number                 Handset Type  Avg RTT DL (ms)  \\\n",
       "0   3.366496e+10   Samsung Galaxy A5 Sm-A520F        42.000000   \n",
       "1   3.368185e+10  Samsung Galaxy J5 (Sm-J530)        65.000000   \n",
       "2   3.376063e+10     Samsung Galaxy A8 (2018)       109.795706   \n",
       "3   3.375034e+10                    undefined       109.795706   \n",
       "4   3.369980e+10             Samsung Sm-G390F       109.795706   \n",
       "\n",
       "   Avg RTT UL (ms)  TCP DL Retrans. Vol (Bytes)  TCP UL Retrans. Vol (Bytes)  \\\n",
       "0         5.000000                 2.080991e+07                759658.664811   \n",
       "1         5.000000                 2.080991e+07                759658.664811   \n",
       "2        17.662883                 2.080991e+07                759658.664811   \n",
       "3        17.662883                 2.080991e+07                759658.664811   \n",
       "4        17.662883                 2.080991e+07                759658.664811   \n",
       "\n",
       "   Avg Bearer TP DL (kbps)  Avg Bearer TP UL (kbps)  \n",
       "0                     23.0                     44.0  \n",
       "1                     16.0                     26.0  \n",
       "2                      6.0                      9.0  \n",
       "3                     44.0                     44.0  \n",
       "4                      6.0                      9.0  "
      ]
     },
     "execution_count": 23,
     "metadata": {},
     "output_type": "execute_result"
    }
   ],
   "source": [
    "# fixed the missing values\n",
    "df_exp.head()"
   ]
  },
  {
   "cell_type": "markdown",
   "id": "43ecfb63",
   "metadata": {},
   "source": [
    "### Working with outliers"
   ]
  },
  {
   "cell_type": "code",
   "execution_count": 25,
   "id": "202b5c74",
   "metadata": {},
   "outputs": [
    {
     "data": {
      "image/png": "[encoded data removed]",
      "text/plain": [
       "<Figure size 864x504 with 1 Axes>"
      ]
     },
     "metadata": {
      "needs_background": "light"
     },
     "output_type": "display_data"
    }
   ],
   "source": [
    "plt.figure(figsize=(12, 7))\n",
    "sns.boxplot(data=df_exp, x='Avg RTT DL (ms)')\n",
    "plt.title(\"box plot for Avg RTT DL (ms)\", size=20)\n",
    "plt.show()"
   ]
  },
  {
   "cell_type": "code",
   "execution_count": 26,
   "id": "307c0841",
   "metadata": {},
   "outputs": [
    {
     "data": {
      "image/png": "[encoded data removed]",
      "text/plain": [
       "<Figure size 864x504 with 1 Axes>"
      ]
     },
     "metadata": {
      "needs_background": "light"
     },
     "output_type": "display_data"
    }
   ],
   "source": [
    "plt.figure(figsize=(12, 7))\n",
    "sns.boxplot(data=df_exp, x='Avg RTT UL (ms)')\n",
    "plt.title(\"box plot for Avg RTT UL (ms)\", size=20)\n",
    "plt.show()"
   ]
  },
  {
   "cell_type": "code",
   "execution_count": 27,
   "id": "54282537",
   "metadata": {},
   "outputs": [
    {
     "data": {
      "image/png": "[encoded data removed]",
      "text/plain": [
       "<Figure size 864x504 with 1 Axes>"
      ]
     },
     "metadata": {
      "needs_background": "light"
     },
     "output_type": "display_data"
    }
   ],
   "source": [
    "plt.figure(figsize=(12, 7))\n",
    "sns.boxplot(data=df_exp, x='TCP DL Retrans. Vol (Bytes)')\n",
    "plt.title(\"box plot for TCP DL Retrans. Vol (Bytes)\", size=20)\n",
    "plt.show()"
   ]
  },
  {
   "cell_type": "code",
   "execution_count": 28,
   "id": "0fc69513",
   "metadata": {},
   "outputs": [
    {
     "data": {
      "image/png": "[encoded data removed]",
      "text/plain": [
       "<Figure size 864x504 with 1 Axes>"
      ]
     },
     "metadata": {
      "needs_background": "light"
     },
     "output_type": "display_data"
    }
   ],
   "source": [
    "plt.figure(figsize=(12, 7))\n",
    "sns.boxplot(data=df_exp, x='TCP UL Retrans. Vol (Bytes)')\n",
    "plt.title(\"box plot for TCP UL Retrans. Vol (Bytes)\", size=20)\n",
    "plt.show()"
   ]
  },
  {
   "cell_type": "code",
   "execution_count": 29,
   "id": "8f2a3c5e",
   "metadata": {},
   "outputs": [
    {
     "data": {
      "image/png": "[encoded data removed]",
      "text/plain": [
       "<Figure size 864x504 with 1 Axes>"
      ]
     },
     "metadata": {
      "needs_background": "light"
     },
     "output_type": "display_data"
    }
   ],
   "source": [
    "plt.figure(figsize=(12, 7))\n",
    "sns.boxplot(data=df_exp, x='Avg Bearer TP UL (kbps)')\n",
    "plt.title(\"box plot for Avg Bearer TP UL (kbps) \", size=20)\n",
    "plt.show()"
   ]
  },
  {
   "cell_type": "code",
   "execution_count": 32,
   "id": "ec695ba7",
   "metadata": {},
   "outputs": [
    {
     "data": {
      "image/png": "[encoded data removed]",
      "text/plain": [
       "<Figure size 864x504 with 1 Axes>"
      ]
     },
     "metadata": {
      "needs_background": "light"
     },
     "output_type": "display_data"
    }
   ],
   "source": [
    "plt.figure(figsize=(12, 7))\n",
    "sns.boxplot(data=df_exp, x='Avg Bearer TP DL (kbps)')\n",
    "plt.title(\"box plot for Avg Bearer TP DL (kbps)\", size=20)\n",
    "plt.show()"
   ]
  },
  {
   "cell_type": "markdown",
   "id": "01ff9013",
   "metadata": {},
   "source": [
    "### Fixing Outliers"
   ]
  },
  {
   "cell_type": "code",
   "execution_count": 34,
   "id": "077f5eee",
   "metadata": {},
   "outputs": [
    {
     "data": {
      "text/plain": [
       "count    150001.000000\n",
       "mean        109.795706\n",
       "std         559.342620\n",
       "min           0.000000\n",
       "25%          35.000000\n",
       "50%          54.000000\n",
       "75%         109.795706\n",
       "max       96923.000000\n",
       "Name: Avg RTT DL (ms), dtype: float64"
      ]
     },
     "execution_count": 34,
     "metadata": {},
     "output_type": "execute_result"
    }
   ],
   "source": [
    "#Printing the median and percentile of Avg RTT DL (ms)\n",
    "df_exp['Avg RTT DL (ms)'].describe()"
   ]
  },
  {
   "cell_type": "code",
   "execution_count": 41,
   "id": "a3e73aa1",
   "metadata": {},
   "outputs": [],
   "source": [
    "#Replacing outliers with median\n",
    "# max = 96,923\n",
    "# median = 54\n",
    "# Fix or replace 90%(quantile)\n",
    "#Replacing outliers with median\n",
    "df_exp['Avg RTT DL (ms)'] = np.where(df_exp['Avg RTT DL (ms)'] > 220, 54, df_exp['Avg RTT DL (ms)'])"
   ]
  },
  {
   "cell_type": "code",
   "execution_count": 38,
   "id": "e00961be",
   "metadata": {},
   "outputs": [
    {
     "data": {
      "text/plain": [
       "count    150001.000000\n",
       "mean         17.662883\n",
       "std          76.529933\n",
       "min           0.000000\n",
       "25%           3.000000\n",
       "50%           7.000000\n",
       "75%          17.662883\n",
       "max        7120.000000\n",
       "Name: Avg RTT UL (ms), dtype: float64"
      ]
     },
     "execution_count": 38,
     "metadata": {},
     "output_type": "execute_result"
    }
   ],
   "source": [
    "#Printing the median and percentile of Avg RTT UL (ms)\n",
    "df_exp['Avg RTT UL (ms)'].describe()"
   ]
  },
  {
   "cell_type": "code",
   "execution_count": 42,
   "id": "f76aa11a",
   "metadata": {},
   "outputs": [],
   "source": [
    "#Replacing outliers with median\n",
    "# max = 7120\n",
    "# median = 7\n",
    "# Fix or replace 90%(quantile)\n",
    "#Replacing outliers with median\n",
    "df_exp['Avg RTT UL (ms)'] = np.where(df_exp['Avg RTT UL (ms)'] > 40, 7, df_exp['Avg RTT UL (ms)'])"
   ]
  },
  {
   "cell_type": "code",
   "execution_count": 43,
   "id": "d4616380",
   "metadata": {},
   "outputs": [
    {
     "data": {
      "text/plain": [
       "count    1.500010e+05\n",
       "mean     2.080991e+07\n",
       "std      1.172356e+08\n",
       "min      2.000000e+00\n",
       "25%      1.332932e+06\n",
       "50%      2.080991e+07\n",
       "75%      2.080991e+07\n",
       "max      4.294426e+09\n",
       "Name: TCP DL Retrans. Vol (Bytes), dtype: float64"
      ]
     },
     "execution_count": 43,
     "metadata": {},
     "output_type": "execute_result"
    }
   ],
   "source": [
    "#Printing the median and percentile of TCP DL Retrans. Vol (Bytes)\n",
    "df_exp['TCP DL Retrans. Vol (Bytes)'].describe()"
   ]
  },
  {
   "cell_type": "code",
   "execution_count": 44,
   "id": "6e735502",
   "metadata": {},
   "outputs": [],
   "source": [
    "# Replacing outliers with median\n",
    "# max = 4.294426e+09\n",
    "# median = 2.080991e+07\n",
    "# Fix or replace 90%(quantile)\n",
    "#Replacing outliers with median\n",
    "df_exp['TCP DL Retrans. Vol (Bytes)'] = np.where(df_exp['TCP DL Retrans. Vol (Bytes)'] > 20809914.27034193, 20809914.27034193, df_exp['TCP DL Retrans. Vol (Bytes)'])"
   ]
  },
  {
   "cell_type": "code",
   "execution_count": 45,
   "id": "e4c857db",
   "metadata": {},
   "outputs": [
    {
     "data": {
      "text/plain": [
       "count    1.500010e+05\n",
       "mean     7.596587e+05\n",
       "std      1.577616e+07\n",
       "min      1.000000e+00\n",
       "25%      6.300900e+04\n",
       "50%      7.596587e+05\n",
       "75%      7.596587e+05\n",
       "max      2.908226e+09\n",
       "Name: TCP UL Retrans. Vol (Bytes), dtype: float64"
      ]
     },
     "execution_count": 45,
     "metadata": {},
     "output_type": "execute_result"
    }
   ],
   "source": [
    "#Printing the median and percentile of TCP UL Retrans. Vol (Bytes)\n",
    "df_exp['TCP UL Retrans. Vol (Bytes)'].describe()"
   ]
  },
  {
   "cell_type": "code",
   "execution_count": 50,
   "id": "10a80b48",
   "metadata": {},
   "outputs": [],
   "source": [
    "# Replacing outliers with median\n",
    "# max = 2.908226e+09\n",
    "# median = 7.596587e+05\n",
    "# Fix or replace 90%(quantile)\n",
    "df_exp['TCP UL Retrans. Vol (Bytes)'] = np.where(df_exp['TCP UL Retrans. Vol (Bytes)'] > 759658.6648110661, 759658.6648110661, df_exp['TCP UL Retrans. Vol (Bytes)'])"
   ]
  },
  {
   "cell_type": "code",
   "execution_count": 51,
   "id": "0ec4af36",
   "metadata": {},
   "outputs": [
    {
     "data": {
      "text/html": [
       "<div>\n",
       "<style scoped>\n",
       "    .dataframe tbody tr th:only-of-type {\n",
       "        vertical-align: middle;\n",
       "    }\n",
       "\n",
       "    .dataframe tbody tr th {\n",
       "        vertical-align: top;\n",
       "    }\n",
       "\n",
       "    .dataframe thead th {\n",
       "        text-align: right;\n",
       "    }\n",
       "</style>\n",
       "<table border=\"1\" class=\"dataframe\">\n",
       "  <thead>\n",
       "    <tr style=\"text-align: right;\">\n",
       "      <th></th>\n",
       "      <th>MSISDN/Number</th>\n",
       "      <th>Avg RTT DL (ms)</th>\n",
       "      <th>Avg RTT UL (ms)</th>\n",
       "      <th>TCP DL Retrans. Vol (Bytes)</th>\n",
       "      <th>TCP UL Retrans. Vol (Bytes)</th>\n",
       "      <th>Avg Bearer TP DL (kbps)</th>\n",
       "      <th>Avg Bearer TP UL (kbps)</th>\n",
       "    </tr>\n",
       "  </thead>\n",
       "  <tbody>\n",
       "    <tr>\n",
       "      <th>count</th>\n",
       "      <td>1.500010e+05</td>\n",
       "      <td>150001.000000</td>\n",
       "      <td>150001.000000</td>\n",
       "      <td>1.500010e+05</td>\n",
       "      <td>150001.000000</td>\n",
       "      <td>150001.000000</td>\n",
       "      <td>150001.000000</td>\n",
       "    </tr>\n",
       "    <tr>\n",
       "      <th>mean</th>\n",
       "      <td>4.182414e+10</td>\n",
       "      <td>64.169484</td>\n",
       "      <td>10.159280</td>\n",
       "      <td>1.375607e+07</td>\n",
       "      <td>525524.011857</td>\n",
       "      <td>13300.045927</td>\n",
       "      <td>1770.428647</td>\n",
       "    </tr>\n",
       "    <tr>\n",
       "      <th>std</th>\n",
       "      <td>2.438731e+12</td>\n",
       "      <td>37.817597</td>\n",
       "      <td>8.716573</td>\n",
       "      <td>9.343134e+06</td>\n",
       "      <td>335154.724475</td>\n",
       "      <td>23971.798635</td>\n",
       "      <td>4625.340082</td>\n",
       "    </tr>\n",
       "    <tr>\n",
       "      <th>min</th>\n",
       "      <td>3.360100e+10</td>\n",
       "      <td>0.000000</td>\n",
       "      <td>0.000000</td>\n",
       "      <td>2.000000e+00</td>\n",
       "      <td>1.000000</td>\n",
       "      <td>0.000000</td>\n",
       "      <td>0.000000</td>\n",
       "    </tr>\n",
       "    <tr>\n",
       "      <th>25%</th>\n",
       "      <td>3.365094e+10</td>\n",
       "      <td>35.000000</td>\n",
       "      <td>3.000000</td>\n",
       "      <td>1.332932e+06</td>\n",
       "      <td>63009.000000</td>\n",
       "      <td>43.000000</td>\n",
       "      <td>47.000000</td>\n",
       "    </tr>\n",
       "    <tr>\n",
       "      <th>50%</th>\n",
       "      <td>3.366361e+10</td>\n",
       "      <td>54.000000</td>\n",
       "      <td>7.000000</td>\n",
       "      <td>2.080991e+07</td>\n",
       "      <td>759658.664811</td>\n",
       "      <td>63.000000</td>\n",
       "      <td>63.000000</td>\n",
       "    </tr>\n",
       "    <tr>\n",
       "      <th>75%</th>\n",
       "      <td>3.368307e+10</td>\n",
       "      <td>104.000000</td>\n",
       "      <td>17.662883</td>\n",
       "      <td>2.080991e+07</td>\n",
       "      <td>759658.664811</td>\n",
       "      <td>19710.000000</td>\n",
       "      <td>1120.000000</td>\n",
       "    </tr>\n",
       "    <tr>\n",
       "      <th>max</th>\n",
       "      <td>8.823971e+14</td>\n",
       "      <td>220.000000</td>\n",
       "      <td>40.000000</td>\n",
       "      <td>2.080991e+07</td>\n",
       "      <td>759658.664811</td>\n",
       "      <td>378160.000000</td>\n",
       "      <td>58613.000000</td>\n",
       "    </tr>\n",
       "  </tbody>\n",
       "</table>\n",
       "</div>"
      ],
      "text/plain": [
       "       MSISDN/Number  Avg RTT DL (ms)  Avg RTT UL (ms)  \\\n",
       "count   1.500010e+05    150001.000000    150001.000000   \n",
       "mean    4.182414e+10        64.169484        10.159280   \n",
       "std     2.438731e+12        37.817597         8.716573   \n",
       "min     3.360100e+10         0.000000         0.000000   \n",
       "25%     3.365094e+10        35.000000         3.000000   \n",
       "50%     3.366361e+10        54.000000         7.000000   \n",
       "75%     3.368307e+10       104.000000        17.662883   \n",
       "max     8.823971e+14       220.000000        40.000000   \n",
       "\n",
       "       TCP DL Retrans. Vol (Bytes)  TCP UL Retrans. Vol (Bytes)  \\\n",
       "count                 1.500010e+05                150001.000000   \n",
       "mean                  1.375607e+07                525524.011857   \n",
       "std                   9.343134e+06                335154.724475   \n",
       "min                   2.000000e+00                     1.000000   \n",
       "25%                   1.332932e+06                 63009.000000   \n",
       "50%                   2.080991e+07                759658.664811   \n",
       "75%                   2.080991e+07                759658.664811   \n",
       "max                   2.080991e+07                759658.664811   \n",
       "\n",
       "       Avg Bearer TP DL (kbps)  Avg Bearer TP UL (kbps)  \n",
       "count            150001.000000            150001.000000  \n",
       "mean              13300.045927              1770.428647  \n",
       "std               23971.798635              4625.340082  \n",
       "min                   0.000000                 0.000000  \n",
       "25%                  43.000000                47.000000  \n",
       "50%                  63.000000                63.000000  \n",
       "75%               19710.000000              1120.000000  \n",
       "max              378160.000000             58613.000000  "
      ]
     },
     "execution_count": 51,
     "metadata": {},
     "output_type": "execute_result"
    }
   ],
   "source": [
    "df_exp.describe()"
   ]
  },
  {
   "cell_type": "markdown",
   "id": "2a0f9efe",
   "metadata": {},
   "source": [
    "#### we can see that maximum range is fixed"
   ]
  },
  {
   "cell_type": "markdown",
   "id": "3dd9bcda",
   "metadata": {},
   "source": [
    "# Compute & list 10 of the top, bottom and most frequent:\n",
    "\n",
    "* TCP values in the dataset.\n",
    "* RTT values in the dataset.\n",
    "* Throughput values in the dataset."
   ]
  },
  {
   "cell_type": "markdown",
   "id": "afac5279",
   "metadata": {},
   "source": [
    "### Aggregating Total value"
   ]
  },
  {
   "cell_type": "code",
   "execution_count": 71,
   "id": "6e92ef08",
   "metadata": {},
   "outputs": [],
   "source": [
    "# Aggregating Total value of Avg RTT UL + DL\n",
    "df_exp['Average RTT'] = df_exp['Avg RTT UL (ms)']+df_exp['Avg RTT DL (ms)']"
   ]
  },
  {
   "cell_type": "code",
   "execution_count": 72,
   "id": "be8216a6",
   "metadata": {},
   "outputs": [],
   "source": [
    "# Aggreagating Total value of TCP DL + UL\n",
    "df_exp['Average TCP']=df_exp['TCP DL Retrans. Vol (Bytes)']+df_exp['TCP UL Retrans. Vol (Bytes)']"
   ]
  },
  {
   "cell_type": "code",
   "execution_count": 73,
   "id": "e61caf33",
   "metadata": {},
   "outputs": [],
   "source": [
    "# Aggregating Total values of Avg throughput\n",
    "df_exp['Average throughput']=df_exp['Avg Bearer TP DL (kbps)']+df_exp['Avg Bearer TP DL (kbps)']"
   ]
  },
  {
   "cell_type": "code",
   "execution_count": 74,
   "id": "ec36bd3c",
   "metadata": {},
   "outputs": [
    {
     "data": {
      "text/html": [
       "<div>\n",
       "<style scoped>\n",
       "    .dataframe tbody tr th:only-of-type {\n",
       "        vertical-align: middle;\n",
       "    }\n",
       "\n",
       "    .dataframe tbody tr th {\n",
       "        vertical-align: top;\n",
       "    }\n",
       "\n",
       "    .dataframe thead th {\n",
       "        text-align: right;\n",
       "    }\n",
       "</style>\n",
       "<table border=\"1\" class=\"dataframe\">\n",
       "  <thead>\n",
       "    <tr style=\"text-align: right;\">\n",
       "      <th></th>\n",
       "      <th>MSISDN/Number</th>\n",
       "      <th>Handset Type</th>\n",
       "      <th>Avg RTT DL (ms)</th>\n",
       "      <th>Avg RTT UL (ms)</th>\n",
       "      <th>TCP DL Retrans. Vol (Bytes)</th>\n",
       "      <th>TCP UL Retrans. Vol (Bytes)</th>\n",
       "      <th>Avg Bearer TP DL (kbps)</th>\n",
       "      <th>Avg Bearer TP UL (kbps)</th>\n",
       "      <th>Average RTT</th>\n",
       "      <th>Average TCP</th>\n",
       "      <th>Average throughput</th>\n",
       "    </tr>\n",
       "  </thead>\n",
       "  <tbody>\n",
       "    <tr>\n",
       "      <th>0</th>\n",
       "      <td>3.366496e+10</td>\n",
       "      <td>Samsung Galaxy A5 Sm-A520F</td>\n",
       "      <td>42.000000</td>\n",
       "      <td>5.000000</td>\n",
       "      <td>2.080991e+07</td>\n",
       "      <td>759658.664811</td>\n",
       "      <td>23.0</td>\n",
       "      <td>44.0</td>\n",
       "      <td>47.000000</td>\n",
       "      <td>2.156957e+07</td>\n",
       "      <td>46.0</td>\n",
       "    </tr>\n",
       "    <tr>\n",
       "      <th>1</th>\n",
       "      <td>3.368185e+10</td>\n",
       "      <td>Samsung Galaxy J5 (Sm-J530)</td>\n",
       "      <td>65.000000</td>\n",
       "      <td>5.000000</td>\n",
       "      <td>2.080991e+07</td>\n",
       "      <td>759658.664811</td>\n",
       "      <td>16.0</td>\n",
       "      <td>26.0</td>\n",
       "      <td>70.000000</td>\n",
       "      <td>2.156957e+07</td>\n",
       "      <td>32.0</td>\n",
       "    </tr>\n",
       "    <tr>\n",
       "      <th>2</th>\n",
       "      <td>3.376063e+10</td>\n",
       "      <td>Samsung Galaxy A8 (2018)</td>\n",
       "      <td>109.795706</td>\n",
       "      <td>17.662883</td>\n",
       "      <td>2.080991e+07</td>\n",
       "      <td>759658.664811</td>\n",
       "      <td>6.0</td>\n",
       "      <td>9.0</td>\n",
       "      <td>127.458589</td>\n",
       "      <td>2.156957e+07</td>\n",
       "      <td>12.0</td>\n",
       "    </tr>\n",
       "    <tr>\n",
       "      <th>3</th>\n",
       "      <td>3.375034e+10</td>\n",
       "      <td>undefined</td>\n",
       "      <td>109.795706</td>\n",
       "      <td>17.662883</td>\n",
       "      <td>2.080991e+07</td>\n",
       "      <td>759658.664811</td>\n",
       "      <td>44.0</td>\n",
       "      <td>44.0</td>\n",
       "      <td>127.458589</td>\n",
       "      <td>2.156957e+07</td>\n",
       "      <td>88.0</td>\n",
       "    </tr>\n",
       "    <tr>\n",
       "      <th>4</th>\n",
       "      <td>3.369980e+10</td>\n",
       "      <td>Samsung Sm-G390F</td>\n",
       "      <td>109.795706</td>\n",
       "      <td>17.662883</td>\n",
       "      <td>2.080991e+07</td>\n",
       "      <td>759658.664811</td>\n",
       "      <td>6.0</td>\n",
       "      <td>9.0</td>\n",
       "      <td>127.458589</td>\n",
       "      <td>2.156957e+07</td>\n",
       "      <td>12.0</td>\n",
       "    </tr>\n",
       "  </tbody>\n",
       "</table>\n",
       "</div>"
      ],
      "text/plain": [
       "   MSISDN/Number                 Handset Type  Avg RTT DL (ms)  \\\n",
       "0   3.366496e+10   Samsung Galaxy A5 Sm-A520F        42.000000   \n",
       "1   3.368185e+10  Samsung Galaxy J5 (Sm-J530)        65.000000   \n",
       "2   3.376063e+10     Samsung Galaxy A8 (2018)       109.795706   \n",
       "3   3.375034e+10                    undefined       109.795706   \n",
       "4   3.369980e+10             Samsung Sm-G390F       109.795706   \n",
       "\n",
       "   Avg RTT UL (ms)  TCP DL Retrans. Vol (Bytes)  TCP UL Retrans. Vol (Bytes)  \\\n",
       "0         5.000000                 2.080991e+07                759658.664811   \n",
       "1         5.000000                 2.080991e+07                759658.664811   \n",
       "2        17.662883                 2.080991e+07                759658.664811   \n",
       "3        17.662883                 2.080991e+07                759658.664811   \n",
       "4        17.662883                 2.080991e+07                759658.664811   \n",
       "\n",
       "   Avg Bearer TP DL (kbps)  Avg Bearer TP UL (kbps)  Average RTT  \\\n",
       "0                     23.0                     44.0    47.000000   \n",
       "1                     16.0                     26.0    70.000000   \n",
       "2                      6.0                      9.0   127.458589   \n",
       "3                     44.0                     44.0   127.458589   \n",
       "4                      6.0                      9.0   127.458589   \n",
       "\n",
       "    Average TCP  Average throughput  \n",
       "0  2.156957e+07                46.0  \n",
       "1  2.156957e+07                32.0  \n",
       "2  2.156957e+07                12.0  \n",
       "3  2.156957e+07                88.0  \n",
       "4  2.156957e+07                12.0  "
      ]
     },
     "execution_count": 74,
     "metadata": {},
     "output_type": "execute_result"
    }
   ],
   "source": [
    "# Aggregated dataframe\n",
    "df_exp.head()"
   ]
  },
  {
   "cell_type": "code",
   "execution_count": 75,
   "id": "db38b60f",
   "metadata": {},
   "outputs": [],
   "source": [
    "df_expNew = df_exp[['MSISDN/Number','Handset Type','Average RTT',\n",
    "                   'Average TCP','Average throughput']]"
   ]
  },
  {
   "cell_type": "code",
   "execution_count": 76,
   "id": "bbe4004e",
   "metadata": {},
   "outputs": [
    {
     "data": {
      "text/html": [
       "<div>\n",
       "<style scoped>\n",
       "    .dataframe tbody tr th:only-of-type {\n",
       "        vertical-align: middle;\n",
       "    }\n",
       "\n",
       "    .dataframe tbody tr th {\n",
       "        vertical-align: top;\n",
       "    }\n",
       "\n",
       "    .dataframe thead th {\n",
       "        text-align: right;\n",
       "    }\n",
       "</style>\n",
       "<table border=\"1\" class=\"dataframe\">\n",
       "  <thead>\n",
       "    <tr style=\"text-align: right;\">\n",
       "      <th></th>\n",
       "      <th>MSISDN/Number</th>\n",
       "      <th>Handset Type</th>\n",
       "      <th>Average RTT</th>\n",
       "      <th>Average TCP</th>\n",
       "      <th>Average throughput</th>\n",
       "    </tr>\n",
       "  </thead>\n",
       "  <tbody>\n",
       "    <tr>\n",
       "      <th>0</th>\n",
       "      <td>3.366496e+10</td>\n",
       "      <td>Samsung Galaxy A5 Sm-A520F</td>\n",
       "      <td>47.000000</td>\n",
       "      <td>2.156957e+07</td>\n",
       "      <td>46.0</td>\n",
       "    </tr>\n",
       "    <tr>\n",
       "      <th>1</th>\n",
       "      <td>3.368185e+10</td>\n",
       "      <td>Samsung Galaxy J5 (Sm-J530)</td>\n",
       "      <td>70.000000</td>\n",
       "      <td>2.156957e+07</td>\n",
       "      <td>32.0</td>\n",
       "    </tr>\n",
       "    <tr>\n",
       "      <th>2</th>\n",
       "      <td>3.376063e+10</td>\n",
       "      <td>Samsung Galaxy A8 (2018)</td>\n",
       "      <td>127.458589</td>\n",
       "      <td>2.156957e+07</td>\n",
       "      <td>12.0</td>\n",
       "    </tr>\n",
       "    <tr>\n",
       "      <th>3</th>\n",
       "      <td>3.375034e+10</td>\n",
       "      <td>undefined</td>\n",
       "      <td>127.458589</td>\n",
       "      <td>2.156957e+07</td>\n",
       "      <td>88.0</td>\n",
       "    </tr>\n",
       "    <tr>\n",
       "      <th>4</th>\n",
       "      <td>3.369980e+10</td>\n",
       "      <td>Samsung Sm-G390F</td>\n",
       "      <td>127.458589</td>\n",
       "      <td>2.156957e+07</td>\n",
       "      <td>12.0</td>\n",
       "    </tr>\n",
       "  </tbody>\n",
       "</table>\n",
       "</div>"
      ],
      "text/plain": [
       "   MSISDN/Number                 Handset Type  Average RTT   Average TCP  \\\n",
       "0   3.366496e+10   Samsung Galaxy A5 Sm-A520F    47.000000  2.156957e+07   \n",
       "1   3.368185e+10  Samsung Galaxy J5 (Sm-J530)    70.000000  2.156957e+07   \n",
       "2   3.376063e+10     Samsung Galaxy A8 (2018)   127.458589  2.156957e+07   \n",
       "3   3.375034e+10                    undefined   127.458589  2.156957e+07   \n",
       "4   3.369980e+10             Samsung Sm-G390F   127.458589  2.156957e+07   \n",
       "\n",
       "   Average throughput  \n",
       "0                46.0  \n",
       "1                32.0  \n",
       "2                12.0  \n",
       "3                88.0  \n",
       "4                12.0  "
      ]
     },
     "execution_count": 76,
     "metadata": {},
     "output_type": "execute_result"
    }
   ],
   "source": [
    "df_expNew.head()"
   ]
  },
  {
   "cell_type": "markdown",
   "id": "ead84540",
   "metadata": {},
   "source": [
    "### TCP values in the dataset."
   ]
  },
  {
   "cell_type": "code",
   "execution_count": 78,
   "id": "c75a488a",
   "metadata": {
    "scrolled": true
   },
   "outputs": [],
   "source": [
    "#sorting data highest to lowest\n",
    "df_expNew.sort_values(by=['Average TCP'],ascending=False, inplace=True)"
   ]
  },
  {
   "cell_type": "code",
   "execution_count": 82,
   "id": "9b5ac1b3",
   "metadata": {},
   "outputs": [
    {
     "data": {
      "text/html": [
       "<div>\n",
       "<style scoped>\n",
       "    .dataframe tbody tr th:only-of-type {\n",
       "        vertical-align: middle;\n",
       "    }\n",
       "\n",
       "    .dataframe tbody tr th {\n",
       "        vertical-align: top;\n",
       "    }\n",
       "\n",
       "    .dataframe thead th {\n",
       "        text-align: right;\n",
       "    }\n",
       "</style>\n",
       "<table border=\"1\" class=\"dataframe\">\n",
       "  <thead>\n",
       "    <tr style=\"text-align: right;\">\n",
       "      <th></th>\n",
       "      <th>Average TCP</th>\n",
       "    </tr>\n",
       "  </thead>\n",
       "  <tbody>\n",
       "    <tr>\n",
       "      <th>0</th>\n",
       "      <td>2.156957e+07</td>\n",
       "    </tr>\n",
       "    <tr>\n",
       "      <th>30996</th>\n",
       "      <td>2.156957e+07</td>\n",
       "    </tr>\n",
       "    <tr>\n",
       "      <th>31006</th>\n",
       "      <td>2.156957e+07</td>\n",
       "    </tr>\n",
       "    <tr>\n",
       "      <th>30988</th>\n",
       "      <td>2.156957e+07</td>\n",
       "    </tr>\n",
       "    <tr>\n",
       "      <th>30989</th>\n",
       "      <td>2.156957e+07</td>\n",
       "    </tr>\n",
       "    <tr>\n",
       "      <th>30991</th>\n",
       "      <td>2.156957e+07</td>\n",
       "    </tr>\n",
       "    <tr>\n",
       "      <th>30992</th>\n",
       "      <td>2.156957e+07</td>\n",
       "    </tr>\n",
       "    <tr>\n",
       "      <th>30993</th>\n",
       "      <td>2.156957e+07</td>\n",
       "    </tr>\n",
       "    <tr>\n",
       "      <th>30994</th>\n",
       "      <td>2.156957e+07</td>\n",
       "    </tr>\n",
       "    <tr>\n",
       "      <th>30995</th>\n",
       "      <td>2.156957e+07</td>\n",
       "    </tr>\n",
       "  </tbody>\n",
       "</table>\n",
       "</div>"
      ],
      "text/plain": [
       "        Average TCP\n",
       "0      2.156957e+07\n",
       "30996  2.156957e+07\n",
       "31006  2.156957e+07\n",
       "30988  2.156957e+07\n",
       "30989  2.156957e+07\n",
       "30991  2.156957e+07\n",
       "30992  2.156957e+07\n",
       "30993  2.156957e+07\n",
       "30994  2.156957e+07\n",
       "30995  2.156957e+07"
      ]
     },
     "execution_count": 82,
     "metadata": {},
     "output_type": "execute_result"
    }
   ],
   "source": [
    "#getting the top 10 TCP values and saving to csv\n",
    "top10tcp=df_expNew['Average TCP'].head(10)\n",
    "top10tcp.to_csv(\"../data/top10tcp.csv\",index=False)\n",
    "top10tcp.to_frame()"
   ]
  },
  {
   "cell_type": "code",
   "execution_count": 83,
   "id": "e9abfd22",
   "metadata": {},
   "outputs": [
    {
     "data": {
      "text/html": [
       "<div>\n",
       "<style scoped>\n",
       "    .dataframe tbody tr th:only-of-type {\n",
       "        vertical-align: middle;\n",
       "    }\n",
       "\n",
       "    .dataframe tbody tr th {\n",
       "        vertical-align: top;\n",
       "    }\n",
       "\n",
       "    .dataframe thead th {\n",
       "        text-align: right;\n",
       "    }\n",
       "</style>\n",
       "<table border=\"1\" class=\"dataframe\">\n",
       "  <thead>\n",
       "    <tr style=\"text-align: right;\">\n",
       "      <th></th>\n",
       "      <th>Average TCP</th>\n",
       "    </tr>\n",
       "  </thead>\n",
       "  <tbody>\n",
       "    <tr>\n",
       "      <th>12849</th>\n",
       "      <td>143.0</td>\n",
       "    </tr>\n",
       "    <tr>\n",
       "      <th>83214</th>\n",
       "      <td>134.0</td>\n",
       "    </tr>\n",
       "    <tr>\n",
       "      <th>95955</th>\n",
       "      <td>134.0</td>\n",
       "    </tr>\n",
       "    <tr>\n",
       "      <th>99947</th>\n",
       "      <td>129.0</td>\n",
       "    </tr>\n",
       "    <tr>\n",
       "      <th>8794</th>\n",
       "      <td>128.0</td>\n",
       "    </tr>\n",
       "    <tr>\n",
       "      <th>97061</th>\n",
       "      <td>113.0</td>\n",
       "    </tr>\n",
       "    <tr>\n",
       "      <th>13142</th>\n",
       "      <td>108.0</td>\n",
       "    </tr>\n",
       "    <tr>\n",
       "      <th>18417</th>\n",
       "      <td>106.0</td>\n",
       "    </tr>\n",
       "    <tr>\n",
       "      <th>111100</th>\n",
       "      <td>97.0</td>\n",
       "    </tr>\n",
       "    <tr>\n",
       "      <th>143594</th>\n",
       "      <td>86.0</td>\n",
       "    </tr>\n",
       "  </tbody>\n",
       "</table>\n",
       "</div>"
      ],
      "text/plain": [
       "        Average TCP\n",
       "12849         143.0\n",
       "83214         134.0\n",
       "95955         134.0\n",
       "99947         129.0\n",
       "8794          128.0\n",
       "97061         113.0\n",
       "13142         108.0\n",
       "18417         106.0\n",
       "111100         97.0\n",
       "143594         86.0"
      ]
     },
     "execution_count": 83,
     "metadata": {},
     "output_type": "execute_result"
    }
   ],
   "source": [
    "#getting the bottom 10 TCP values and saving to csv file\n",
    "btm10tcp=df_expNew['Average TCP'].tail(10)\n",
    "btm10tcp.to_csv(\"../data/btm10tcp.csv\",index=False)\n",
    "btm10tcp.to_frame()"
   ]
  },
  {
   "cell_type": "code",
   "execution_count": 93,
   "id": "761e0236",
   "metadata": {},
   "outputs": [
    {
     "data": {
      "text/html": [
       "<div>\n",
       "<style scoped>\n",
       "    .dataframe tbody tr th:only-of-type {\n",
       "        vertical-align: middle;\n",
       "    }\n",
       "\n",
       "    .dataframe tbody tr th {\n",
       "        vertical-align: top;\n",
       "    }\n",
       "\n",
       "    .dataframe thead th {\n",
       "        text-align: right;\n",
       "    }\n",
       "</style>\n",
       "<table border=\"1\" class=\"dataframe\">\n",
       "  <thead>\n",
       "    <tr style=\"text-align: right;\">\n",
       "      <th></th>\n",
       "      <th>0</th>\n",
       "    </tr>\n",
       "  </thead>\n",
       "  <tbody>\n",
       "    <tr>\n",
       "      <th>0</th>\n",
       "      <td>2.156957e+07</td>\n",
       "    </tr>\n",
       "    <tr>\n",
       "      <th>1</th>\n",
       "      <td>2.081121e+07</td>\n",
       "    </tr>\n",
       "    <tr>\n",
       "      <th>2</th>\n",
       "      <td>2.081124e+07</td>\n",
       "    </tr>\n",
       "    <tr>\n",
       "      <th>3</th>\n",
       "      <td>7.609887e+05</td>\n",
       "    </tr>\n",
       "    <tr>\n",
       "      <th>4</th>\n",
       "      <td>2.081123e+07</td>\n",
       "    </tr>\n",
       "    <tr>\n",
       "      <th>5</th>\n",
       "      <td>7.596967e+05</td>\n",
       "    </tr>\n",
       "    <tr>\n",
       "      <th>6</th>\n",
       "      <td>7.597507e+05</td>\n",
       "    </tr>\n",
       "    <tr>\n",
       "      <th>7</th>\n",
       "      <td>7.623187e+05</td>\n",
       "    </tr>\n",
       "    <tr>\n",
       "      <th>8</th>\n",
       "      <td>2.081257e+07</td>\n",
       "    </tr>\n",
       "    <tr>\n",
       "      <th>9</th>\n",
       "      <td>7.609767e+05</td>\n",
       "    </tr>\n",
       "  </tbody>\n",
       "</table>\n",
       "</div>"
      ],
      "text/plain": [
       "              0\n",
       "0  2.156957e+07\n",
       "1  2.081121e+07\n",
       "2  2.081124e+07\n",
       "3  7.609887e+05\n",
       "4  2.081123e+07\n",
       "5  7.596967e+05\n",
       "6  7.597507e+05\n",
       "7  7.623187e+05\n",
       "8  2.081257e+07\n",
       "9  7.609767e+05"
      ]
     },
     "execution_count": 93,
     "metadata": {},
     "output_type": "execute_result"
    }
   ],
   "source": [
    "#getting the most frequent TCP values\n",
    "most_freq = df_expNew['Average TCP'].value_counts().index.tolist()\n",
    "# changing the list to a datafrmae\n",
    "df1 = pd.DataFrame(most_freq)\n",
    "# saving to a csv file\n",
    "most_freq10=df1.head(10)\n",
    "most_freq10.to_csv(\"../data/most_freqTCP.csv\",index=False)\n",
    "most_freq10"
   ]
  },
  {
   "cell_type": "markdown",
   "id": "df45114d",
   "metadata": {},
   "source": [
    "## RTT values in the dataset."
   ]
  },
  {
   "cell_type": "code",
   "execution_count": 95,
   "id": "f9275b76",
   "metadata": {
    "scrolled": true
   },
   "outputs": [],
   "source": [
    "#sorting data highest to lowest\n",
    "df_expNew.sort_values(by=['Average RTT'],ascending=False, inplace=True)"
   ]
  },
  {
   "cell_type": "code",
   "execution_count": 96,
   "id": "88ade27e",
   "metadata": {},
   "outputs": [
    {
     "data": {
      "text/html": [
       "<div>\n",
       "<style scoped>\n",
       "    .dataframe tbody tr th:only-of-type {\n",
       "        vertical-align: middle;\n",
       "    }\n",
       "\n",
       "    .dataframe tbody tr th {\n",
       "        vertical-align: top;\n",
       "    }\n",
       "\n",
       "    .dataframe thead th {\n",
       "        text-align: right;\n",
       "    }\n",
       "</style>\n",
       "<table border=\"1\" class=\"dataframe\">\n",
       "  <thead>\n",
       "    <tr style=\"text-align: right;\">\n",
       "      <th></th>\n",
       "      <th>Average RTT</th>\n",
       "    </tr>\n",
       "  </thead>\n",
       "  <tbody>\n",
       "    <tr>\n",
       "      <th>141222</th>\n",
       "      <td>259.0</td>\n",
       "    </tr>\n",
       "    <tr>\n",
       "      <th>120437</th>\n",
       "      <td>259.0</td>\n",
       "    </tr>\n",
       "    <tr>\n",
       "      <th>68300</th>\n",
       "      <td>258.0</td>\n",
       "    </tr>\n",
       "    <tr>\n",
       "      <th>117828</th>\n",
       "      <td>258.0</td>\n",
       "    </tr>\n",
       "    <tr>\n",
       "      <th>117962</th>\n",
       "      <td>258.0</td>\n",
       "    </tr>\n",
       "    <tr>\n",
       "      <th>764</th>\n",
       "      <td>256.0</td>\n",
       "    </tr>\n",
       "    <tr>\n",
       "      <th>65745</th>\n",
       "      <td>255.0</td>\n",
       "    </tr>\n",
       "    <tr>\n",
       "      <th>60428</th>\n",
       "      <td>255.0</td>\n",
       "    </tr>\n",
       "    <tr>\n",
       "      <th>66074</th>\n",
       "      <td>255.0</td>\n",
       "    </tr>\n",
       "    <tr>\n",
       "      <th>36850</th>\n",
       "      <td>255.0</td>\n",
       "    </tr>\n",
       "  </tbody>\n",
       "</table>\n",
       "</div>"
      ],
      "text/plain": [
       "        Average RTT\n",
       "141222        259.0\n",
       "120437        259.0\n",
       "68300         258.0\n",
       "117828        258.0\n",
       "117962        258.0\n",
       "764           256.0\n",
       "65745         255.0\n",
       "60428         255.0\n",
       "66074         255.0\n",
       "36850         255.0"
      ]
     },
     "execution_count": 96,
     "metadata": {},
     "output_type": "execute_result"
    }
   ],
   "source": [
    "#getting the top 10 rtt values and saving to csv\n",
    "top10rtt=df_expNew['Average RTT'].head(10)\n",
    "top10rtt.to_csv(\"../data/top10rtt.csv\",index=False)\n",
    "top10rtt.to_frame()"
   ]
  },
  {
   "cell_type": "code",
   "execution_count": 97,
   "id": "d6e0a581",
   "metadata": {},
   "outputs": [
    {
     "data": {
      "text/html": [
       "<div>\n",
       "<style scoped>\n",
       "    .dataframe tbody tr th:only-of-type {\n",
       "        vertical-align: middle;\n",
       "    }\n",
       "\n",
       "    .dataframe tbody tr th {\n",
       "        vertical-align: top;\n",
       "    }\n",
       "\n",
       "    .dataframe thead th {\n",
       "        text-align: right;\n",
       "    }\n",
       "</style>\n",
       "<table border=\"1\" class=\"dataframe\">\n",
       "  <thead>\n",
       "    <tr style=\"text-align: right;\">\n",
       "      <th></th>\n",
       "      <th>Average RTT</th>\n",
       "    </tr>\n",
       "  </thead>\n",
       "  <tbody>\n",
       "    <tr>\n",
       "      <th>123210</th>\n",
       "      <td>6.0</td>\n",
       "    </tr>\n",
       "    <tr>\n",
       "      <th>8756</th>\n",
       "      <td>6.0</td>\n",
       "    </tr>\n",
       "    <tr>\n",
       "      <th>103544</th>\n",
       "      <td>5.0</td>\n",
       "    </tr>\n",
       "    <tr>\n",
       "      <th>144923</th>\n",
       "      <td>4.0</td>\n",
       "    </tr>\n",
       "    <tr>\n",
       "      <th>50966</th>\n",
       "      <td>4.0</td>\n",
       "    </tr>\n",
       "    <tr>\n",
       "      <th>71738</th>\n",
       "      <td>2.0</td>\n",
       "    </tr>\n",
       "    <tr>\n",
       "      <th>143878</th>\n",
       "      <td>0.0</td>\n",
       "    </tr>\n",
       "    <tr>\n",
       "      <th>124538</th>\n",
       "      <td>0.0</td>\n",
       "    </tr>\n",
       "    <tr>\n",
       "      <th>103321</th>\n",
       "      <td>0.0</td>\n",
       "    </tr>\n",
       "    <tr>\n",
       "      <th>42602</th>\n",
       "      <td>0.0</td>\n",
       "    </tr>\n",
       "  </tbody>\n",
       "</table>\n",
       "</div>"
      ],
      "text/plain": [
       "        Average RTT\n",
       "123210          6.0\n",
       "8756            6.0\n",
       "103544          5.0\n",
       "144923          4.0\n",
       "50966           4.0\n",
       "71738           2.0\n",
       "143878          0.0\n",
       "124538          0.0\n",
       "103321          0.0\n",
       "42602           0.0"
      ]
     },
     "execution_count": 97,
     "metadata": {},
     "output_type": "execute_result"
    }
   ],
   "source": [
    "#getting the bottom 10 RTT values and saving to csv file\n",
    "btm10rtt=df_expNew['Average RTT'].tail(10)\n",
    "btm10rtt.to_csv(\"../data/btm10rtt.csv\",index=False)\n",
    "btm10rtt.to_frame()"
   ]
  },
  {
   "cell_type": "code",
   "execution_count": 98,
   "id": "d8e92880",
   "metadata": {},
   "outputs": [
    {
     "data": {
      "text/html": [
       "<div>\n",
       "<style scoped>\n",
       "    .dataframe tbody tr th:only-of-type {\n",
       "        vertical-align: middle;\n",
       "    }\n",
       "\n",
       "    .dataframe tbody tr th {\n",
       "        vertical-align: top;\n",
       "    }\n",
       "\n",
       "    .dataframe thead th {\n",
       "        text-align: right;\n",
       "    }\n",
       "</style>\n",
       "<table border=\"1\" class=\"dataframe\">\n",
       "  <thead>\n",
       "    <tr style=\"text-align: right;\">\n",
       "      <th></th>\n",
       "      <th>0</th>\n",
       "    </tr>\n",
       "  </thead>\n",
       "  <tbody>\n",
       "    <tr>\n",
       "      <th>0</th>\n",
       "      <td>127.458589</td>\n",
       "    </tr>\n",
       "    <tr>\n",
       "      <th>1</th>\n",
       "      <td>29.000000</td>\n",
       "    </tr>\n",
       "    <tr>\n",
       "      <th>2</th>\n",
       "      <td>39.000000</td>\n",
       "    </tr>\n",
       "    <tr>\n",
       "      <th>3</th>\n",
       "      <td>38.000000</td>\n",
       "    </tr>\n",
       "    <tr>\n",
       "      <th>4</th>\n",
       "      <td>40.000000</td>\n",
       "    </tr>\n",
       "    <tr>\n",
       "      <th>5</th>\n",
       "      <td>30.000000</td>\n",
       "    </tr>\n",
       "    <tr>\n",
       "      <th>6</th>\n",
       "      <td>28.000000</td>\n",
       "    </tr>\n",
       "    <tr>\n",
       "      <th>7</th>\n",
       "      <td>61.000000</td>\n",
       "    </tr>\n",
       "    <tr>\n",
       "      <th>8</th>\n",
       "      <td>59.000000</td>\n",
       "    </tr>\n",
       "    <tr>\n",
       "      <th>9</th>\n",
       "      <td>49.000000</td>\n",
       "    </tr>\n",
       "  </tbody>\n",
       "</table>\n",
       "</div>"
      ],
      "text/plain": [
       "            0\n",
       "0  127.458589\n",
       "1   29.000000\n",
       "2   39.000000\n",
       "3   38.000000\n",
       "4   40.000000\n",
       "5   30.000000\n",
       "6   28.000000\n",
       "7   61.000000\n",
       "8   59.000000\n",
       "9   49.000000"
      ]
     },
     "execution_count": 98,
     "metadata": {},
     "output_type": "execute_result"
    }
   ],
   "source": [
    "#getting the most frequent RTT values\n",
    "most_freq = df_expNew['Average RTT'].value_counts().index.tolist()\n",
    "# changing the list to a datafrmae\n",
    "df1 = pd.DataFrame(most_freq)\n",
    "# saving to a csv file\n",
    "most_freq10=df1.head(10)\n",
    "most_freq10.to_csv(\"../data/most_freqRTT.csv\",index=False)\n",
    "most_freq10"
   ]
  },
  {
   "cell_type": "markdown",
   "id": "0f5bca32",
   "metadata": {},
   "source": [
    "## Average throughput values in the dataset"
   ]
  },
  {
   "cell_type": "code",
   "execution_count": 101,
   "id": "0c94b749",
   "metadata": {},
   "outputs": [],
   "source": [
    "#sorting data highest to lowest\n",
    "df_expNew.sort_values(by=['Average throughput'], ascending=False, inplace=True)"
   ]
  },
  {
   "cell_type": "code",
   "execution_count": 103,
   "id": "f00656da",
   "metadata": {},
   "outputs": [
    {
     "data": {
      "text/html": [
       "<div>\n",
       "<style scoped>\n",
       "    .dataframe tbody tr th:only-of-type {\n",
       "        vertical-align: middle;\n",
       "    }\n",
       "\n",
       "    .dataframe tbody tr th {\n",
       "        vertical-align: top;\n",
       "    }\n",
       "\n",
       "    .dataframe thead th {\n",
       "        text-align: right;\n",
       "    }\n",
       "</style>\n",
       "<table border=\"1\" class=\"dataframe\">\n",
       "  <thead>\n",
       "    <tr style=\"text-align: right;\">\n",
       "      <th></th>\n",
       "      <th>Average throughput</th>\n",
       "    </tr>\n",
       "  </thead>\n",
       "  <tbody>\n",
       "    <tr>\n",
       "      <th>120876</th>\n",
       "      <td>756320.0</td>\n",
       "    </tr>\n",
       "    <tr>\n",
       "      <th>141250</th>\n",
       "      <td>598514.0</td>\n",
       "    </tr>\n",
       "    <tr>\n",
       "      <th>143670</th>\n",
       "      <td>598004.0</td>\n",
       "    </tr>\n",
       "    <tr>\n",
       "      <th>149616</th>\n",
       "      <td>552080.0</td>\n",
       "    </tr>\n",
       "    <tr>\n",
       "      <th>92177</th>\n",
       "      <td>538724.0</td>\n",
       "    </tr>\n",
       "    <tr>\n",
       "      <th>117776</th>\n",
       "      <td>532664.0</td>\n",
       "    </tr>\n",
       "    <tr>\n",
       "      <th>115836</th>\n",
       "      <td>530880.0</td>\n",
       "    </tr>\n",
       "    <tr>\n",
       "      <th>89567</th>\n",
       "      <td>528896.0</td>\n",
       "    </tr>\n",
       "    <tr>\n",
       "      <th>116550</th>\n",
       "      <td>526094.0</td>\n",
       "    </tr>\n",
       "    <tr>\n",
       "      <th>41551</th>\n",
       "      <td>508506.0</td>\n",
       "    </tr>\n",
       "  </tbody>\n",
       "</table>\n",
       "</div>"
      ],
      "text/plain": [
       "        Average throughput\n",
       "120876            756320.0\n",
       "141250            598514.0\n",
       "143670            598004.0\n",
       "149616            552080.0\n",
       "92177             538724.0\n",
       "117776            532664.0\n",
       "115836            530880.0\n",
       "89567             528896.0\n",
       "116550            526094.0\n",
       "41551             508506.0"
      ]
     },
     "execution_count": 103,
     "metadata": {},
     "output_type": "execute_result"
    }
   ],
   "source": [
    "#getting the top 10 avg throughput values and saving to csv\n",
    "top10avgT=df_expNew['Average throughput'].head(10)\n",
    "top10avgT.to_csv(\"../data/top10avgThroughput.csv\",index=False)\n",
    "top10avgT.to_frame()"
   ]
  },
  {
   "cell_type": "code",
   "execution_count": 104,
   "id": "9b5ab366",
   "metadata": {},
   "outputs": [
    {
     "data": {
      "text/html": [
       "<div>\n",
       "<style scoped>\n",
       "    .dataframe tbody tr th:only-of-type {\n",
       "        vertical-align: middle;\n",
       "    }\n",
       "\n",
       "    .dataframe tbody tr th {\n",
       "        vertical-align: top;\n",
       "    }\n",
       "\n",
       "    .dataframe thead th {\n",
       "        text-align: right;\n",
       "    }\n",
       "</style>\n",
       "<table border=\"1\" class=\"dataframe\">\n",
       "  <thead>\n",
       "    <tr style=\"text-align: right;\">\n",
       "      <th></th>\n",
       "      <th>Average throughput</th>\n",
       "    </tr>\n",
       "  </thead>\n",
       "  <tbody>\n",
       "    <tr>\n",
       "      <th>9616</th>\n",
       "      <td>0.0</td>\n",
       "    </tr>\n",
       "    <tr>\n",
       "      <th>133686</th>\n",
       "      <td>0.0</td>\n",
       "    </tr>\n",
       "    <tr>\n",
       "      <th>9715</th>\n",
       "      <td>0.0</td>\n",
       "    </tr>\n",
       "    <tr>\n",
       "      <th>44532</th>\n",
       "      <td>0.0</td>\n",
       "    </tr>\n",
       "    <tr>\n",
       "      <th>29820</th>\n",
       "      <td>0.0</td>\n",
       "    </tr>\n",
       "    <tr>\n",
       "      <th>146828</th>\n",
       "      <td>0.0</td>\n",
       "    </tr>\n",
       "    <tr>\n",
       "      <th>9504</th>\n",
       "      <td>0.0</td>\n",
       "    </tr>\n",
       "    <tr>\n",
       "      <th>9321</th>\n",
       "      <td>0.0</td>\n",
       "    </tr>\n",
       "    <tr>\n",
       "      <th>2460</th>\n",
       "      <td>0.0</td>\n",
       "    </tr>\n",
       "    <tr>\n",
       "      <th>145279</th>\n",
       "      <td>0.0</td>\n",
       "    </tr>\n",
       "  </tbody>\n",
       "</table>\n",
       "</div>"
      ],
      "text/plain": [
       "        Average throughput\n",
       "9616                   0.0\n",
       "133686                 0.0\n",
       "9715                   0.0\n",
       "44532                  0.0\n",
       "29820                  0.0\n",
       "146828                 0.0\n",
       "9504                   0.0\n",
       "9321                   0.0\n",
       "2460                   0.0\n",
       "145279                 0.0"
      ]
     },
     "execution_count": 104,
     "metadata": {},
     "output_type": "execute_result"
    }
   ],
   "source": [
    "#getting the bottom 10 avg thr values and saving to csv file\n",
    "btm10rtt=df_expNew['Average throughput'].tail(10)\n",
    "btm10rtt.to_csv(\"../data/btm10avgThroughput.csv\",index=False)\n",
    "btm10rtt.to_frame()"
   ]
  },
  {
   "cell_type": "code",
   "execution_count": 105,
   "id": "354b9743",
   "metadata": {},
   "outputs": [
    {
     "data": {
      "text/html": [
       "<div>\n",
       "<style scoped>\n",
       "    .dataframe tbody tr th:only-of-type {\n",
       "        vertical-align: middle;\n",
       "    }\n",
       "\n",
       "    .dataframe tbody tr th {\n",
       "        vertical-align: top;\n",
       "    }\n",
       "\n",
       "    .dataframe thead th {\n",
       "        text-align: right;\n",
       "    }\n",
       "</style>\n",
       "<table border=\"1\" class=\"dataframe\">\n",
       "  <thead>\n",
       "    <tr style=\"text-align: right;\">\n",
       "      <th></th>\n",
       "      <th>0</th>\n",
       "    </tr>\n",
       "  </thead>\n",
       "  <tbody>\n",
       "    <tr>\n",
       "      <th>0</th>\n",
       "      <td>46.0</td>\n",
       "    </tr>\n",
       "    <tr>\n",
       "      <th>1</th>\n",
       "      <td>86.0</td>\n",
       "    </tr>\n",
       "    <tr>\n",
       "      <th>2</th>\n",
       "      <td>88.0</td>\n",
       "    </tr>\n",
       "    <tr>\n",
       "      <th>3</th>\n",
       "      <td>12.0</td>\n",
       "    </tr>\n",
       "    <tr>\n",
       "      <th>4</th>\n",
       "      <td>44.0</td>\n",
       "    </tr>\n",
       "    <tr>\n",
       "      <th>5</th>\n",
       "      <td>96.0</td>\n",
       "    </tr>\n",
       "    <tr>\n",
       "      <th>6</th>\n",
       "      <td>126.0</td>\n",
       "    </tr>\n",
       "    <tr>\n",
       "      <th>7</th>\n",
       "      <td>84.0</td>\n",
       "    </tr>\n",
       "    <tr>\n",
       "      <th>8</th>\n",
       "      <td>90.0</td>\n",
       "    </tr>\n",
       "    <tr>\n",
       "      <th>9</th>\n",
       "      <td>94.0</td>\n",
       "    </tr>\n",
       "  </tbody>\n",
       "</table>\n",
       "</div>"
      ],
      "text/plain": [
       "       0\n",
       "0   46.0\n",
       "1   86.0\n",
       "2   88.0\n",
       "3   12.0\n",
       "4   44.0\n",
       "5   96.0\n",
       "6  126.0\n",
       "7   84.0\n",
       "8   90.0\n",
       "9   94.0"
      ]
     },
     "execution_count": 105,
     "metadata": {},
     "output_type": "execute_result"
    }
   ],
   "source": [
    "#getting the most frequent avf thr values\n",
    "most_freq = df_expNew['Average throughput'].value_counts().index.tolist()\n",
    "# changing the list to a datafrmae\n",
    "df1 = pd.DataFrame(most_freq)\n",
    "# saving to a csv file\n",
    "most_freq10=df1.head(10)\n",
    "most_freq10.to_csv(\"../data/most_freqAvgThr.csv\",index=False)\n",
    "most_freq10"
   ]
  },
  {
   "cell_type": "markdown",
   "id": "37454a5a",
   "metadata": {},
   "source": [
    "### Compute & report:\n",
    "* The distribution of the average throughput per handset type and provide interpretation for your findings.\n",
    "* The average TCP retransmission view per handset type and provide interpretation for your findings."
   ]
  },
  {
   "cell_type": "markdown",
   "id": "4aefc641",
   "metadata": {},
   "source": [
    "## Distribution of the average throughput per handset type"
   ]
  },
  {
   "cell_type": "code",
   "execution_count": 106,
   "id": "2535d223",
   "metadata": {},
   "outputs": [
    {
     "data": {
      "text/html": [
       "<div>\n",
       "<style scoped>\n",
       "    .dataframe tbody tr th:only-of-type {\n",
       "        vertical-align: middle;\n",
       "    }\n",
       "\n",
       "    .dataframe tbody tr th {\n",
       "        vertical-align: top;\n",
       "    }\n",
       "\n",
       "    .dataframe thead th {\n",
       "        text-align: right;\n",
       "    }\n",
       "</style>\n",
       "<table border=\"1\" class=\"dataframe\">\n",
       "  <thead>\n",
       "    <tr style=\"text-align: right;\">\n",
       "      <th></th>\n",
       "      <th>MSISDN/Number</th>\n",
       "      <th>Handset Type</th>\n",
       "      <th>Average RTT</th>\n",
       "      <th>Average TCP</th>\n",
       "      <th>Average throughput</th>\n",
       "    </tr>\n",
       "  </thead>\n",
       "  <tbody>\n",
       "    <tr>\n",
       "      <th>120876</th>\n",
       "      <td>3.366117e+10</td>\n",
       "      <td>Huawei B528S-23A</td>\n",
       "      <td>96.0</td>\n",
       "      <td>1.284627e+06</td>\n",
       "      <td>756320.0</td>\n",
       "    </tr>\n",
       "    <tr>\n",
       "      <th>141250</th>\n",
       "      <td>3.369817e+10</td>\n",
       "      <td>undefined</td>\n",
       "      <td>49.0</td>\n",
       "      <td>2.109818e+07</td>\n",
       "      <td>598514.0</td>\n",
       "    </tr>\n",
       "    <tr>\n",
       "      <th>143670</th>\n",
       "      <td>3.367251e+10</td>\n",
       "      <td>Samsung Galaxy S9 Sm-G960F Ds</td>\n",
       "      <td>44.0</td>\n",
       "      <td>1.075170e+05</td>\n",
       "      <td>598004.0</td>\n",
       "    </tr>\n",
       "    <tr>\n",
       "      <th>149616</th>\n",
       "      <td>3.365169e+10</td>\n",
       "      <td>Apple iPhone Xs Max (A2101)</td>\n",
       "      <td>38.0</td>\n",
       "      <td>9.104667e+05</td>\n",
       "      <td>552080.0</td>\n",
       "    </tr>\n",
       "    <tr>\n",
       "      <th>92177</th>\n",
       "      <td>3.366856e+10</td>\n",
       "      <td>Apple iPhone Xr (A2105)</td>\n",
       "      <td>49.0</td>\n",
       "      <td>2.090834e+07</td>\n",
       "      <td>538724.0</td>\n",
       "    </tr>\n",
       "  </tbody>\n",
       "</table>\n",
       "</div>"
      ],
      "text/plain": [
       "        MSISDN/Number                   Handset Type  Average RTT  \\\n",
       "120876   3.366117e+10               Huawei B528S-23A         96.0   \n",
       "141250   3.369817e+10                      undefined         49.0   \n",
       "143670   3.367251e+10  Samsung Galaxy S9 Sm-G960F Ds         44.0   \n",
       "149616   3.365169e+10    Apple iPhone Xs Max (A2101)         38.0   \n",
       "92177    3.366856e+10        Apple iPhone Xr (A2105)         49.0   \n",
       "\n",
       "         Average TCP  Average throughput  \n",
       "120876  1.284627e+06            756320.0  \n",
       "141250  2.109818e+07            598514.0  \n",
       "143670  1.075170e+05            598004.0  \n",
       "149616  9.104667e+05            552080.0  \n",
       "92177   2.090834e+07            538724.0  "
      ]
     },
     "execution_count": 106,
     "metadata": {},
     "output_type": "execute_result"
    }
   ],
   "source": [
    "df_expNew.head()"
   ]
  },
  {
   "cell_type": "code",
   "execution_count": 109,
   "id": "3b38874d",
   "metadata": {},
   "outputs": [
    {
     "data": {
      "text/html": [
       "<div>\n",
       "<style scoped>\n",
       "    .dataframe tbody tr th:only-of-type {\n",
       "        vertical-align: middle;\n",
       "    }\n",
       "\n",
       "    .dataframe tbody tr th {\n",
       "        vertical-align: top;\n",
       "    }\n",
       "\n",
       "    .dataframe thead th {\n",
       "        text-align: right;\n",
       "    }\n",
       "</style>\n",
       "<table border=\"1\" class=\"dataframe\">\n",
       "  <thead>\n",
       "    <tr style=\"text-align: right;\">\n",
       "      <th></th>\n",
       "      <th>Handset Type</th>\n",
       "      <th>Average throughput</th>\n",
       "    </tr>\n",
       "  </thead>\n",
       "  <tbody>\n",
       "    <tr>\n",
       "      <th>0</th>\n",
       "      <td>A-Link Telecom I. Cubot A5</td>\n",
       "      <td>46368.0</td>\n",
       "    </tr>\n",
       "    <tr>\n",
       "      <th>1</th>\n",
       "      <td>A-Link Telecom I. Cubot Note Plus</td>\n",
       "      <td>13054.0</td>\n",
       "    </tr>\n",
       "    <tr>\n",
       "      <th>2</th>\n",
       "      <td>A-Link Telecom I. Cubot Note S</td>\n",
       "      <td>17030.0</td>\n",
       "    </tr>\n",
       "    <tr>\n",
       "      <th>3</th>\n",
       "      <td>A-Link Telecom I. Cubot Nova</td>\n",
       "      <td>111334.0</td>\n",
       "    </tr>\n",
       "    <tr>\n",
       "      <th>4</th>\n",
       "      <td>A-Link Telecom I. Cubot Power</td>\n",
       "      <td>138252.0</td>\n",
       "    </tr>\n",
       "    <tr>\n",
       "      <th>5</th>\n",
       "      <td>A-Link Telecom I. Cubot R9</td>\n",
       "      <td>5724.0</td>\n",
       "    </tr>\n",
       "    <tr>\n",
       "      <th>6</th>\n",
       "      <td>A-Link Telecom I. Cubot X18 Plus</td>\n",
       "      <td>48432.0</td>\n",
       "    </tr>\n",
       "    <tr>\n",
       "      <th>7</th>\n",
       "      <td>Acer Liquid M220</td>\n",
       "      <td>0.0</td>\n",
       "    </tr>\n",
       "    <tr>\n",
       "      <th>8</th>\n",
       "      <td>Acer Liquid Z220</td>\n",
       "      <td>776.0</td>\n",
       "    </tr>\n",
       "    <tr>\n",
       "      <th>9</th>\n",
       "      <td>Acer Liquid Z530</td>\n",
       "      <td>442.0</td>\n",
       "    </tr>\n",
       "  </tbody>\n",
       "</table>\n",
       "</div>"
      ],
      "text/plain": [
       "                        Handset Type  Average throughput\n",
       "0         A-Link Telecom I. Cubot A5             46368.0\n",
       "1  A-Link Telecom I. Cubot Note Plus             13054.0\n",
       "2     A-Link Telecom I. Cubot Note S             17030.0\n",
       "3       A-Link Telecom I. Cubot Nova            111334.0\n",
       "4      A-Link Telecom I. Cubot Power            138252.0\n",
       "5         A-Link Telecom I. Cubot R9              5724.0\n",
       "6   A-Link Telecom I. Cubot X18 Plus             48432.0\n",
       "7                   Acer Liquid M220                 0.0\n",
       "8                   Acer Liquid Z220               776.0\n",
       "9                   Acer Liquid Z530               442.0"
      ]
     },
     "execution_count": 109,
     "metadata": {},
     "output_type": "execute_result"
    }
   ],
   "source": [
    "# average throughput for each Handset type\n",
    "Average_thr = df_expNew.groupby('Handset Type')['Average throughput'].sum()\n",
    "avg_thr=Average_thr.to_frame().head(10)\n",
    "avg_thr.reset_index()"
   ]
  },
  {
   "cell_type": "markdown",
   "id": "fdc444c2",
   "metadata": {},
   "source": [
    "## Average throughput is the total payload over the entire session divided by the total time. \n",
    "---\n",
    "* 1. A-Link Telecom I. Cubot A5\n",
    "* 2. A-Link Telecom I. Cubot Note Plus\n",
    "* 3. A-Link Telecom I. Cubot Note S\n",
    "---\n",
    "`are the top 3 phones that has a high quality wifi adapter or internet speed (kbps)`"
   ]
  },
  {
   "cell_type": "markdown",
   "id": "eb2ced6e",
   "metadata": {},
   "source": [
    "## The average TCP retransmission view per handset type"
   ]
  },
  {
   "cell_type": "code",
   "execution_count": 110,
   "id": "772054a0",
   "metadata": {},
   "outputs": [
    {
     "data": {
      "text/html": [
       "<div>\n",
       "<style scoped>\n",
       "    .dataframe tbody tr th:only-of-type {\n",
       "        vertical-align: middle;\n",
       "    }\n",
       "\n",
       "    .dataframe tbody tr th {\n",
       "        vertical-align: top;\n",
       "    }\n",
       "\n",
       "    .dataframe thead th {\n",
       "        text-align: right;\n",
       "    }\n",
       "</style>\n",
       "<table border=\"1\" class=\"dataframe\">\n",
       "  <thead>\n",
       "    <tr style=\"text-align: right;\">\n",
       "      <th></th>\n",
       "      <th>Handset Type</th>\n",
       "      <th>Average TCP</th>\n",
       "    </tr>\n",
       "  </thead>\n",
       "  <tbody>\n",
       "    <tr>\n",
       "      <th>0</th>\n",
       "      <td>A-Link Telecom I. Cubot A5</td>\n",
       "      <td>2.156957e+07</td>\n",
       "    </tr>\n",
       "    <tr>\n",
       "      <th>1</th>\n",
       "      <td>A-Link Telecom I. Cubot Note Plus</td>\n",
       "      <td>6.162130e+05</td>\n",
       "    </tr>\n",
       "    <tr>\n",
       "      <th>2</th>\n",
       "      <td>A-Link Telecom I. Cubot Note S</td>\n",
       "      <td>2.087717e+07</td>\n",
       "    </tr>\n",
       "    <tr>\n",
       "      <th>3</th>\n",
       "      <td>A-Link Telecom I. Cubot Nova</td>\n",
       "      <td>1.371700e+05</td>\n",
       "    </tr>\n",
       "    <tr>\n",
       "      <th>4</th>\n",
       "      <td>A-Link Telecom I. Cubot Power</td>\n",
       "      <td>8.041000e+03</td>\n",
       "    </tr>\n",
       "    <tr>\n",
       "      <th>5</th>\n",
       "      <td>A-Link Telecom I. Cubot R9</td>\n",
       "      <td>3.099900e+04</td>\n",
       "    </tr>\n",
       "    <tr>\n",
       "      <th>6</th>\n",
       "      <td>A-Link Telecom I. Cubot X18 Plus</td>\n",
       "      <td>3.451810e+06</td>\n",
       "    </tr>\n",
       "    <tr>\n",
       "      <th>7</th>\n",
       "      <td>Acer Liquid M220</td>\n",
       "      <td>2.156957e+07</td>\n",
       "    </tr>\n",
       "    <tr>\n",
       "      <th>8</th>\n",
       "      <td>Acer Liquid Z220</td>\n",
       "      <td>1.743870e+05</td>\n",
       "    </tr>\n",
       "    <tr>\n",
       "      <th>9</th>\n",
       "      <td>Acer Liquid Z530</td>\n",
       "      <td>8.981307e+05</td>\n",
       "    </tr>\n",
       "  </tbody>\n",
       "</table>\n",
       "</div>"
      ],
      "text/plain": [
       "                        Handset Type   Average TCP\n",
       "0         A-Link Telecom I. Cubot A5  2.156957e+07\n",
       "1  A-Link Telecom I. Cubot Note Plus  6.162130e+05\n",
       "2     A-Link Telecom I. Cubot Note S  2.087717e+07\n",
       "3       A-Link Telecom I. Cubot Nova  1.371700e+05\n",
       "4      A-Link Telecom I. Cubot Power  8.041000e+03\n",
       "5         A-Link Telecom I. Cubot R9  3.099900e+04\n",
       "6   A-Link Telecom I. Cubot X18 Plus  3.451810e+06\n",
       "7                   Acer Liquid M220  2.156957e+07\n",
       "8                   Acer Liquid Z220  1.743870e+05\n",
       "9                   Acer Liquid Z530  8.981307e+05"
      ]
     },
     "execution_count": 110,
     "metadata": {},
     "output_type": "execute_result"
    }
   ],
   "source": [
    "# average tcp retransmission for each Handset type\n",
    "Average_thr = df_expNew.groupby('Handset Type')['Average TCP'].sum()\n",
    "avg_thr=Average_thr.to_frame().head(10)\n",
    "avg_thr.reset_index()"
   ]
  },
  {
   "cell_type": "markdown",
   "id": "2b66ab3e",
   "metadata": {},
   "source": [
    "## The TCP retransmission mechanism ensures that data is reliably sent from end to end. \n",
    "---\n",
    "* 1. A-Link Telecom I. Cubot A5\n",
    "* 2. A-Link Telecom I. Cubot Note Plus\n",
    "* 3. A-Link Telecom I. Cubot Note S\n",
    "---\n",
    "`this phones TCP retransmission mechanism ensures that data is reliably sent from end to end without any loss`\n"
   ]
  },
  {
   "cell_type": "markdown",
   "id": "6638fa0a",
   "metadata": {},
   "source": [
    "* Using the experience metrics above, perform a k-means clustering (where k = 3) to segment users into groups of experiences and provide a brief description of each cluster. (The description must define each group based on your understanding of the data)"
   ]
  },
  {
   "cell_type": "markdown",
   "id": "c5b3c6f6",
   "metadata": {},
   "source": [
    "# K-means"
   ]
  },
  {
   "cell_type": "code",
   "execution_count": 111,
   "id": "ffd04ddf",
   "metadata": {},
   "outputs": [
    {
     "data": {
      "text/html": [
       "<div>\n",
       "<style scoped>\n",
       "    .dataframe tbody tr th:only-of-type {\n",
       "        vertical-align: middle;\n",
       "    }\n",
       "\n",
       "    .dataframe tbody tr th {\n",
       "        vertical-align: top;\n",
       "    }\n",
       "\n",
       "    .dataframe thead th {\n",
       "        text-align: right;\n",
       "    }\n",
       "</style>\n",
       "<table border=\"1\" class=\"dataframe\">\n",
       "  <thead>\n",
       "    <tr style=\"text-align: right;\">\n",
       "      <th></th>\n",
       "      <th>MSISDN/Number</th>\n",
       "      <th>Handset Type</th>\n",
       "      <th>Average RTT</th>\n",
       "      <th>Average TCP</th>\n",
       "      <th>Average throughput</th>\n",
       "    </tr>\n",
       "  </thead>\n",
       "  <tbody>\n",
       "    <tr>\n",
       "      <th>120876</th>\n",
       "      <td>3.366117e+10</td>\n",
       "      <td>Huawei B528S-23A</td>\n",
       "      <td>96.0</td>\n",
       "      <td>1.284627e+06</td>\n",
       "      <td>756320.0</td>\n",
       "    </tr>\n",
       "    <tr>\n",
       "      <th>141250</th>\n",
       "      <td>3.369817e+10</td>\n",
       "      <td>undefined</td>\n",
       "      <td>49.0</td>\n",
       "      <td>2.109818e+07</td>\n",
       "      <td>598514.0</td>\n",
       "    </tr>\n",
       "    <tr>\n",
       "      <th>143670</th>\n",
       "      <td>3.367251e+10</td>\n",
       "      <td>Samsung Galaxy S9 Sm-G960F Ds</td>\n",
       "      <td>44.0</td>\n",
       "      <td>1.075170e+05</td>\n",
       "      <td>598004.0</td>\n",
       "    </tr>\n",
       "    <tr>\n",
       "      <th>149616</th>\n",
       "      <td>3.365169e+10</td>\n",
       "      <td>Apple iPhone Xs Max (A2101)</td>\n",
       "      <td>38.0</td>\n",
       "      <td>9.104667e+05</td>\n",
       "      <td>552080.0</td>\n",
       "    </tr>\n",
       "    <tr>\n",
       "      <th>92177</th>\n",
       "      <td>3.366856e+10</td>\n",
       "      <td>Apple iPhone Xr (A2105)</td>\n",
       "      <td>49.0</td>\n",
       "      <td>2.090834e+07</td>\n",
       "      <td>538724.0</td>\n",
       "    </tr>\n",
       "  </tbody>\n",
       "</table>\n",
       "</div>"
      ],
      "text/plain": [
       "        MSISDN/Number                   Handset Type  Average RTT  \\\n",
       "120876   3.366117e+10               Huawei B528S-23A         96.0   \n",
       "141250   3.369817e+10                      undefined         49.0   \n",
       "143670   3.367251e+10  Samsung Galaxy S9 Sm-G960F Ds         44.0   \n",
       "149616   3.365169e+10    Apple iPhone Xs Max (A2101)         38.0   \n",
       "92177    3.366856e+10        Apple iPhone Xr (A2105)         49.0   \n",
       "\n",
       "         Average TCP  Average throughput  \n",
       "120876  1.284627e+06            756320.0  \n",
       "141250  2.109818e+07            598514.0  \n",
       "143670  1.075170e+05            598004.0  \n",
       "149616  9.104667e+05            552080.0  \n",
       "92177   2.090834e+07            538724.0  "
      ]
     },
     "execution_count": 111,
     "metadata": {},
     "output_type": "execute_result"
    }
   ],
   "source": [
    "df_expNew.head()"
   ]
  },
  {
   "cell_type": "code",
   "execution_count": 112,
   "id": "b8f9fc6e",
   "metadata": {},
   "outputs": [
    {
     "data": {
      "text/html": [
       "<div>\n",
       "<style scoped>\n",
       "    .dataframe tbody tr th:only-of-type {\n",
       "        vertical-align: middle;\n",
       "    }\n",
       "\n",
       "    .dataframe tbody tr th {\n",
       "        vertical-align: top;\n",
       "    }\n",
       "\n",
       "    .dataframe thead th {\n",
       "        text-align: right;\n",
       "    }\n",
       "</style>\n",
       "<table border=\"1\" class=\"dataframe\">\n",
       "  <thead>\n",
       "    <tr style=\"text-align: right;\">\n",
       "      <th></th>\n",
       "      <th>MSISDN/Number</th>\n",
       "      <th>Average RTT</th>\n",
       "      <th>Average TCP</th>\n",
       "      <th>Average throughput</th>\n",
       "    </tr>\n",
       "  </thead>\n",
       "  <tbody>\n",
       "    <tr>\n",
       "      <th>count</th>\n",
       "      <td>1.500010e+05</td>\n",
       "      <td>150001.000000</td>\n",
       "      <td>1.500010e+05</td>\n",
       "      <td>150001.000000</td>\n",
       "    </tr>\n",
       "    <tr>\n",
       "      <th>mean</th>\n",
       "      <td>4.182414e+10</td>\n",
       "      <td>74.328763</td>\n",
       "      <td>1.428159e+07</td>\n",
       "      <td>26600.091853</td>\n",
       "    </tr>\n",
       "    <tr>\n",
       "      <th>std</th>\n",
       "      <td>2.438731e+12</td>\n",
       "      <td>42.448424</td>\n",
       "      <td>9.574087e+06</td>\n",
       "      <td>47943.597270</td>\n",
       "    </tr>\n",
       "    <tr>\n",
       "      <th>min</th>\n",
       "      <td>3.360100e+10</td>\n",
       "      <td>0.000000</td>\n",
       "      <td>8.600000e+01</td>\n",
       "      <td>0.000000</td>\n",
       "    </tr>\n",
       "    <tr>\n",
       "      <th>25%</th>\n",
       "      <td>3.365094e+10</td>\n",
       "      <td>40.000000</td>\n",
       "      <td>1.477017e+06</td>\n",
       "      <td>86.000000</td>\n",
       "    </tr>\n",
       "    <tr>\n",
       "      <th>50%</th>\n",
       "      <td>3.366361e+10</td>\n",
       "      <td>61.000000</td>\n",
       "      <td>2.156957e+07</td>\n",
       "      <td>126.000000</td>\n",
       "    </tr>\n",
       "    <tr>\n",
       "      <th>75%</th>\n",
       "      <td>3.368307e+10</td>\n",
       "      <td>120.000000</td>\n",
       "      <td>2.156957e+07</td>\n",
       "      <td>39420.000000</td>\n",
       "    </tr>\n",
       "    <tr>\n",
       "      <th>max</th>\n",
       "      <td>8.823971e+14</td>\n",
       "      <td>259.000000</td>\n",
       "      <td>2.156957e+07</td>\n",
       "      <td>756320.000000</td>\n",
       "    </tr>\n",
       "  </tbody>\n",
       "</table>\n",
       "</div>"
      ],
      "text/plain": [
       "       MSISDN/Number    Average RTT   Average TCP  Average throughput\n",
       "count   1.500010e+05  150001.000000  1.500010e+05       150001.000000\n",
       "mean    4.182414e+10      74.328763  1.428159e+07        26600.091853\n",
       "std     2.438731e+12      42.448424  9.574087e+06        47943.597270\n",
       "min     3.360100e+10       0.000000  8.600000e+01            0.000000\n",
       "25%     3.365094e+10      40.000000  1.477017e+06           86.000000\n",
       "50%     3.366361e+10      61.000000  2.156957e+07          126.000000\n",
       "75%     3.368307e+10     120.000000  2.156957e+07        39420.000000\n",
       "max     8.823971e+14     259.000000  2.156957e+07       756320.000000"
      ]
     },
     "execution_count": 112,
     "metadata": {},
     "output_type": "execute_result"
    }
   ],
   "source": [
    "df_expNew.describe()"
   ]
  },
  {
   "cell_type": "markdown",
   "id": "90ac677d",
   "metadata": {},
   "source": [
    "### Standardizing the dataset"
   ]
  },
  {
   "cell_type": "code",
   "execution_count": 129,
   "id": "7a1a7b1b",
   "metadata": {},
   "outputs": [],
   "source": [
    "# standardizing the data using sklearn\n",
    "try:\n",
    "    dff = df_expNew[['Average RTT','Average TCP','Average throughput']]\n",
    "    scaler = StandardScaler()\n",
    "    df_scaled = scaler.fit_transform(dff)\n",
    "except:\n",
    "    print(\"Failed to standardize the column\")\n",
    "df_std = pd.DataFrame(df_scaled)"
   ]
  },
  {
   "cell_type": "code",
   "execution_count": 135,
   "id": "a38a59f1",
   "metadata": {},
   "outputs": [
    {
     "data": {
      "text/html": [
       "<div>\n",
       "<style scoped>\n",
       "    .dataframe tbody tr th:only-of-type {\n",
       "        vertical-align: middle;\n",
       "    }\n",
       "\n",
       "    .dataframe tbody tr th {\n",
       "        vertical-align: top;\n",
       "    }\n",
       "\n",
       "    .dataframe thead th {\n",
       "        text-align: right;\n",
       "    }\n",
       "</style>\n",
       "<table border=\"1\" class=\"dataframe\">\n",
       "  <thead>\n",
       "    <tr style=\"text-align: right;\">\n",
       "      <th></th>\n",
       "      <th>0</th>\n",
       "      <th>1</th>\n",
       "      <th>2</th>\n",
       "    </tr>\n",
       "  </thead>\n",
       "  <tbody>\n",
       "    <tr>\n",
       "      <th>0</th>\n",
       "      <td>0.510533</td>\n",
       "      <td>-1.357519</td>\n",
       "      <td>15.220434</td>\n",
       "    </tr>\n",
       "    <tr>\n",
       "      <th>1</th>\n",
       "      <td>-0.596697</td>\n",
       "      <td>0.711986</td>\n",
       "      <td>11.928930</td>\n",
       "    </tr>\n",
       "    <tr>\n",
       "      <th>2</th>\n",
       "      <td>-0.714487</td>\n",
       "      <td>-1.480467</td>\n",
       "      <td>11.918292</td>\n",
       "    </tr>\n",
       "    <tr>\n",
       "      <th>3</th>\n",
       "      <td>-0.855836</td>\n",
       "      <td>-1.396600</td>\n",
       "      <td>10.960414</td>\n",
       "    </tr>\n",
       "    <tr>\n",
       "      <th>4</th>\n",
       "      <td>-0.596697</td>\n",
       "      <td>0.692157</td>\n",
       "      <td>10.681835</td>\n",
       "    </tr>\n",
       "  </tbody>\n",
       "</table>\n",
       "</div>"
      ],
      "text/plain": [
       "          0         1          2\n",
       "0  0.510533 -1.357519  15.220434\n",
       "1 -0.596697  0.711986  11.928930\n",
       "2 -0.714487 -1.480467  11.918292\n",
       "3 -0.855836 -1.396600  10.960414\n",
       "4 -0.596697  0.692157  10.681835"
      ]
     },
     "execution_count": 135,
     "metadata": {},
     "output_type": "execute_result"
    }
   ],
   "source": [
    "df_std.head()"
   ]
  },
  {
   "cell_type": "code",
   "execution_count": 136,
   "id": "8497f5c3",
   "metadata": {},
   "outputs": [],
   "source": [
    "kmeans = KMeans(n_clusters = 3, init='k-means++')\n",
    "kmeans.fit(df_std)\n",
    "label = kmeans.predict(df_std)"
   ]
  },
  {
   "cell_type": "code",
   "execution_count": 137,
   "id": "226bc715",
   "metadata": {},
   "outputs": [],
   "source": [
    "df_kclus = pd.DataFrame(df_std)\n",
    "df_kclus['clusters'] = label"
   ]
  },
  {
   "cell_type": "code",
   "execution_count": 138,
   "id": "52840f7d",
   "metadata": {},
   "outputs": [],
   "source": [
    "centroids = kmeans.cluster_centers_"
   ]
  },
  {
   "cell_type": "code",
   "execution_count": 139,
   "id": "12992abe",
   "metadata": {},
   "outputs": [],
   "source": [
    "u_labels = np.unique(label)"
   ]
  },
  {
   "cell_type": "code",
   "execution_count": 143,
   "id": "33f0ad82",
   "metadata": {},
   "outputs": [
    {
     "data": {
      "image/png": "[encoded data removed]",
      "text/plain": [
       "<Figure size 432x288 with 1 Axes>"
      ]
     },
     "metadata": {
      "needs_background": "light"
     },
     "output_type": "display_data"
    }
   ],
   "source": [
    "# plot\n",
    "plt.title('User K-Means of 3 Groups of Standardized Data')\n",
    "for i in u_labels:\n",
    "    plt.scatter(df_kclus[label == i].iloc[:,0] , df_kclus[label == i].iloc[:,1], label = i)\n",
    "plt.scatter(centroids[:,0] , centroids[:,1] , s = 20, color = 'black')\n",
    "plt.legend()\n",
    "plt.show()"
   ]
  },
  {
   "cell_type": "code",
   "execution_count": 144,
   "id": "9674c8c7",
   "metadata": {},
   "outputs": [],
   "source": [
    "import plotly.graph_objects as go\n",
    "import seaborn as sns\n",
    "import matplotlib.pyplot as plt"
   ]
  },
  {
   "cell_type": "code",
   "execution_count": 145,
   "id": "728738dc",
   "metadata": {},
   "outputs": [
    {
     "data": {
      "text/plain": [
       "KMeans(n_clusters=3)"
      ]
     },
     "execution_count": 145,
     "metadata": {},
     "output_type": "execute_result"
    }
   ],
   "source": [
    "#Now we create a kmeans function and fit it on the data:\n",
    "# defining the kmeans function with initialization as k-means++\n",
    "kmeans = KMeans(n_clusters=3, init='k-means++')\n",
    "\n",
    "# fitting the k means algorithm on scaled data\n",
    "kmeans.fit(df_std)"
   ]
  },
  {
   "cell_type": "code",
   "execution_count": 146,
   "id": "d717d89e",
   "metadata": {},
   "outputs": [
    {
     "data": {
      "text/plain": [
       "162101.36672907005"
      ]
     },
     "execution_count": 146,
     "metadata": {},
     "output_type": "execute_result"
    }
   ],
   "source": [
    "# inertia on the fitted data\n",
    "kmeans.inertia_"
   ]
  },
  {
   "cell_type": "code",
   "execution_count": 148,
   "id": "811b277f",
   "metadata": {},
   "outputs": [],
   "source": [
    "# fitting multiple k-means algorithms and storing the values in an empty list\n",
    "SSE = []\n",
    "for cluster in range(1,20):\n",
    "    kmeans = KMeans(n_clusters = cluster, init='k-means++')\n",
    "    kmeans.fit(df_std)\n",
    "    SSE.append(kmeans.inertia_)"
   ]
  },
  {
   "cell_type": "code",
   "execution_count": 149,
   "id": "28113c5b",
   "metadata": {},
   "outputs": [
    {
     "data": {
      "text/plain": [
       "Text(0, 0.5, 'Inertia')"
      ]
     },
     "execution_count": 149,
     "metadata": {},
     "output_type": "execute_result"
    },
    {
     "data": {
      "image/png": "[encoded data removed]",
      "text/plain": [
       "<Figure size 864x432 with 1 Axes>"
      ]
     },
     "metadata": {
      "needs_background": "light"
     },
     "output_type": "display_data"
    }
   ],
   "source": [
    "# converting the results into a dataframe and plotting them\n",
    "# \n",
    "frame = pd.DataFrame({'Cluster':range(1,20), 'SSE':SSE})\n",
    "plt.figure(figsize=(12,6))\n",
    "plt.plot(frame['Cluster'], frame['SSE'], marker='o')\n",
    "plt.xlabel('Number of clusters')\n",
    "plt.ylabel('Inertia')"
   ]
  }
 ],
 "metadata": {
  "kernelspec": {
   "display_name": "Python 3 (ipykernel)",
   "language": "python",
   "name": "python3"
  },
  "language_info": {
   "codemirror_mode": {
    "name": "ipython",
    "version": 3
   },
   "file_extension": ".py",
   "mimetype": "text/x-python",
   "name": "python",
   "nbconvert_exporter": "python",
   "pygments_lexer": "ipython3",
   "version": "3.9.7"
  }
 },
 "nbformat": 4,
 "nbformat_minor": 5
}
