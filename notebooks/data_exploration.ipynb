{
 "cells": [
  {
   "cell_type": "code",
   "execution_count": 1,
   "id": "51213c43",
   "metadata": {},
   "outputs": [],
   "source": [
    "import pandas as pd\n",
    "import numpy as np"
   ]
  },
  {
   "cell_type": "code",
   "execution_count": 2,
   "id": "7e30827f",
   "metadata": {},
   "outputs": [],
   "source": [
    "# packages for path locations\n",
    "import os\n",
    "import sys"
   ]
  },
  {
   "cell_type": "code",
   "execution_count": 3,
   "id": "50e456cd",
   "metadata": {},
   "outputs": [],
   "source": [
    "# package scripts in the script module folder \n",
    "sys.path.insert(0,'../scripts/')\n",
    "from data_exploration import exploration\n",
    "from data_preProcessing import data_preProcessing_script"
   ]
  },
  {
   "cell_type": "code",
   "execution_count": 4,
   "id": "bd1fc523",
   "metadata": {},
   "outputs": [],
   "source": [
    "#importing the some libraries for the project\n",
    "import seaborn as sns\n",
    "import matplotlib.pyplot as plt\n",
    "%matplotlib inline\n",
    "from statistics import *\n",
    "import warnings\n",
    "warnings.filterwarnings('ignore')"
   ]
  },
  {
   "cell_type": "code",
   "execution_count": 5,
   "id": "2cff69e8",
   "metadata": {},
   "outputs": [
    {
     "data": {
      "text/html": [
       "<div>\n",
       "<style scoped>\n",
       "    .dataframe tbody tr th:only-of-type {\n",
       "        vertical-align: middle;\n",
       "    }\n",
       "\n",
       "    .dataframe tbody tr th {\n",
       "        vertical-align: top;\n",
       "    }\n",
       "\n",
       "    .dataframe thead th {\n",
       "        text-align: right;\n",
       "    }\n",
       "</style>\n",
       "<table border=\"1\" class=\"dataframe\">\n",
       "  <thead>\n",
       "    <tr style=\"text-align: right;\">\n",
       "      <th></th>\n",
       "      <th>MSISDN/Number</th>\n",
       "      <th>no.of xDR sessions</th>\n",
       "      <th>Total Uploads</th>\n",
       "      <th>Total Downloads</th>\n",
       "      <th>Total UL and DL</th>\n",
       "      <th>Youtube_Total_Data</th>\n",
       "      <th>Google_Total_Data</th>\n",
       "      <th>Email_Total_Data</th>\n",
       "      <th>Social_Media_Total_Data</th>\n",
       "      <th>Netflix_Total_Data</th>\n",
       "      <th>Gaming_Total_Data</th>\n",
       "      <th>Other_Total_Data</th>\n",
       "      <th>Start ms</th>\n",
       "      <th>End ms</th>\n",
       "      <th>Start</th>\n",
       "      <th>End</th>\n",
       "      <th>Avg Delay (ms)</th>\n",
       "      <th>Dur. (ms)</th>\n",
       "      <th>Dur. (ms).1</th>\n",
       "      <th>Activity_Duration(ms)</th>\n",
       "      <th>Avg Throughput (kbps)</th>\n",
       "      <th>Handset Manufacturer</th>\n",
       "      <th>Handset Type</th>\n",
       "      <th>Last Location Name</th>\n",
       "      <th>IMSI</th>\n",
       "      <th>IMEI</th>\n",
       "    </tr>\n",
       "  </thead>\n",
       "  <tbody>\n",
       "    <tr>\n",
       "      <th>0</th>\n",
       "      <td>3.360100e+10</td>\n",
       "      <td>1</td>\n",
       "      <td>3.674974e+13</td>\n",
       "      <td>4.806241e+14</td>\n",
       "      <td>5.173738e+14</td>\n",
       "      <td>1.835594e+13</td>\n",
       "      <td>2.905912e+12</td>\n",
       "      <td>3.701304e+12</td>\n",
       "      <td>1.570185e+12</td>\n",
       "      <td>1.785519e+13</td>\n",
       "      <td>2.924265e+14</td>\n",
       "      <td>1.805588e+14</td>\n",
       "      <td>770.0</td>\n",
       "      <td>662.0</td>\n",
       "      <td>2019-04-04 12:01:18</td>\n",
       "      <td>2019-04-25 14:35:31</td>\n",
       "      <td>47.0</td>\n",
       "      <td>1823652.0</td>\n",
       "      <td>1.823653e+09</td>\n",
       "      <td>76411.0</td>\n",
       "      <td>67.0</td>\n",
       "      <td>Samsung</td>\n",
       "      <td>Samsung Galaxy A5 Sm-A520F</td>\n",
       "      <td>9164566995485190</td>\n",
       "      <td>2.082014e+14</td>\n",
       "      <td>3.552121e+13</td>\n",
       "    </tr>\n",
       "    <tr>\n",
       "      <th>1</th>\n",
       "      <td>3.360100e+10</td>\n",
       "      <td>1</td>\n",
       "      <td>5.380039e+13</td>\n",
       "      <td>1.180289e+15</td>\n",
       "      <td>1.234090e+15</td>\n",
       "      <td>3.935912e+13</td>\n",
       "      <td>4.414096e+12</td>\n",
       "      <td>9.373850e+11</td>\n",
       "      <td>1.933278e+12</td>\n",
       "      <td>3.556554e+13</td>\n",
       "      <td>6.099208e+14</td>\n",
       "      <td>5.419594e+14</td>\n",
       "      <td>235.0</td>\n",
       "      <td>606.0</td>\n",
       "      <td>2019-04-09 13:04:04</td>\n",
       "      <td>2019-04-25 08:15:48</td>\n",
       "      <td>70.0</td>\n",
       "      <td>1365104.0</td>\n",
       "      <td>1.365104e+09</td>\n",
       "      <td>3728.0</td>\n",
       "      <td>42.0</td>\n",
       "      <td>Samsung</td>\n",
       "      <td>Samsung Galaxy J5 (Sm-J530)</td>\n",
       "      <td>L77566A</td>\n",
       "      <td>2.082019e+14</td>\n",
       "      <td>3.579401e+13</td>\n",
       "    </tr>\n",
       "    <tr>\n",
       "      <th>2</th>\n",
       "      <td>3.360100e+10</td>\n",
       "      <td>1</td>\n",
       "      <td>2.788364e+13</td>\n",
       "      <td>6.904999e+14</td>\n",
       "      <td>7.183836e+14</td>\n",
       "      <td>3.442524e+13</td>\n",
       "      <td>1.022912e+13</td>\n",
       "      <td>3.363124e+12</td>\n",
       "      <td>1.726277e+12</td>\n",
       "      <td>2.375120e+13</td>\n",
       "      <td>2.299803e+14</td>\n",
       "      <td>4.149084e+14</td>\n",
       "      <td>1.0</td>\n",
       "      <td>652.0</td>\n",
       "      <td>2019-04-09 17:42:11</td>\n",
       "      <td>2019-04-25 11:58:13</td>\n",
       "      <td>70.0</td>\n",
       "      <td>1361762.0</td>\n",
       "      <td>1.361763e+09</td>\n",
       "      <td>0.0</td>\n",
       "      <td>15.0</td>\n",
       "      <td>Samsung</td>\n",
       "      <td>Samsung Galaxy A8 (2018)</td>\n",
       "      <td>D42335A</td>\n",
       "      <td>2.082003e+14</td>\n",
       "      <td>3.528151e+13</td>\n",
       "    </tr>\n",
       "    <tr>\n",
       "      <th>3</th>\n",
       "      <td>3.360101e+10</td>\n",
       "      <td>1</td>\n",
       "      <td>4.332422e+13</td>\n",
       "      <td>1.595068e+15</td>\n",
       "      <td>1.638393e+15</td>\n",
       "      <td>3.653476e+13</td>\n",
       "      <td>1.181176e+13</td>\n",
       "      <td>2.070983e+12</td>\n",
       "      <td>6.574930e+11</td>\n",
       "      <td>1.509259e+13</td>\n",
       "      <td>8.103879e+14</td>\n",
       "      <td>7.618372e+14</td>\n",
       "      <td>486.0</td>\n",
       "      <td>171.0</td>\n",
       "      <td>2019-04-10 00:31:25</td>\n",
       "      <td>2019-04-25 07:36:35</td>\n",
       "      <td>70.0</td>\n",
       "      <td>1321509.0</td>\n",
       "      <td>1.321510e+09</td>\n",
       "      <td>41212.0</td>\n",
       "      <td>88.0</td>\n",
       "      <td>undefined</td>\n",
       "      <td>undefined</td>\n",
       "      <td>T21824A</td>\n",
       "      <td>2.082014e+14</td>\n",
       "      <td>3.535661e+13</td>\n",
       "    </tr>\n",
       "    <tr>\n",
       "      <th>4</th>\n",
       "      <td>3.360101e+10</td>\n",
       "      <td>2</td>\n",
       "      <td>3.854281e+13</td>\n",
       "      <td>1.119848e+15</td>\n",
       "      <td>1.158391e+15</td>\n",
       "      <td>3.422225e+13</td>\n",
       "      <td>7.748843e+12</td>\n",
       "      <td>2.110349e+12</td>\n",
       "      <td>9.127880e+11</td>\n",
       "      <td>1.753980e+13</td>\n",
       "      <td>5.312370e+14</td>\n",
       "      <td>5.646198e+14</td>\n",
       "      <td>565.0</td>\n",
       "      <td>954.0</td>\n",
       "      <td>2019-04-12 20:10:23</td>\n",
       "      <td>2019-04-25 10:40:32</td>\n",
       "      <td>70.0</td>\n",
       "      <td>1089009.0</td>\n",
       "      <td>1.089009e+09</td>\n",
       "      <td>0.0</td>\n",
       "      <td>15.0</td>\n",
       "      <td>Samsung</td>\n",
       "      <td>Samsung Sm-G390F</td>\n",
       "      <td>D88865A</td>\n",
       "      <td>2.082014e+14</td>\n",
       "      <td>3.540701e+13</td>\n",
       "    </tr>\n",
       "  </tbody>\n",
       "</table>\n",
       "</div>"
      ],
      "text/plain": [
       "   MSISDN/Number  no.of xDR sessions  Total Uploads  Total Downloads  \\\n",
       "0   3.360100e+10                   1   3.674974e+13     4.806241e+14   \n",
       "1   3.360100e+10                   1   5.380039e+13     1.180289e+15   \n",
       "2   3.360100e+10                   1   2.788364e+13     6.904999e+14   \n",
       "3   3.360101e+10                   1   4.332422e+13     1.595068e+15   \n",
       "4   3.360101e+10                   2   3.854281e+13     1.119848e+15   \n",
       "\n",
       "   Total UL and DL  Youtube_Total_Data  Google_Total_Data  Email_Total_Data  \\\n",
       "0     5.173738e+14        1.835594e+13       2.905912e+12      3.701304e+12   \n",
       "1     1.234090e+15        3.935912e+13       4.414096e+12      9.373850e+11   \n",
       "2     7.183836e+14        3.442524e+13       1.022912e+13      3.363124e+12   \n",
       "3     1.638393e+15        3.653476e+13       1.181176e+13      2.070983e+12   \n",
       "4     1.158391e+15        3.422225e+13       7.748843e+12      2.110349e+12   \n",
       "\n",
       "   Social_Media_Total_Data  Netflix_Total_Data  Gaming_Total_Data  \\\n",
       "0             1.570185e+12        1.785519e+13       2.924265e+14   \n",
       "1             1.933278e+12        3.556554e+13       6.099208e+14   \n",
       "2             1.726277e+12        2.375120e+13       2.299803e+14   \n",
       "3             6.574930e+11        1.509259e+13       8.103879e+14   \n",
       "4             9.127880e+11        1.753980e+13       5.312370e+14   \n",
       "\n",
       "   Other_Total_Data  Start ms  End ms                Start  \\\n",
       "0      1.805588e+14     770.0   662.0  2019-04-04 12:01:18   \n",
       "1      5.419594e+14     235.0   606.0  2019-04-09 13:04:04   \n",
       "2      4.149084e+14       1.0   652.0  2019-04-09 17:42:11   \n",
       "3      7.618372e+14     486.0   171.0  2019-04-10 00:31:25   \n",
       "4      5.646198e+14     565.0   954.0  2019-04-12 20:10:23   \n",
       "\n",
       "                   End  Avg Delay (ms)  Dur. (ms)   Dur. (ms).1  \\\n",
       "0  2019-04-25 14:35:31            47.0  1823652.0  1.823653e+09   \n",
       "1  2019-04-25 08:15:48            70.0  1365104.0  1.365104e+09   \n",
       "2  2019-04-25 11:58:13            70.0  1361762.0  1.361763e+09   \n",
       "3  2019-04-25 07:36:35            70.0  1321509.0  1.321510e+09   \n",
       "4  2019-04-25 10:40:32            70.0  1089009.0  1.089009e+09   \n",
       "\n",
       "   Activity_Duration(ms)  Avg Throughput (kbps) Handset Manufacturer  \\\n",
       "0                76411.0                   67.0              Samsung   \n",
       "1                 3728.0                   42.0              Samsung   \n",
       "2                    0.0                   15.0              Samsung   \n",
       "3                41212.0                   88.0            undefined   \n",
       "4                    0.0                   15.0              Samsung   \n",
       "\n",
       "                  Handset Type Last Location Name          IMSI          IMEI  \n",
       "0   Samsung Galaxy A5 Sm-A520F   9164566995485190  2.082014e+14  3.552121e+13  \n",
       "1  Samsung Galaxy J5 (Sm-J530)            L77566A  2.082019e+14  3.579401e+13  \n",
       "2     Samsung Galaxy A8 (2018)            D42335A  2.082003e+14  3.528151e+13  \n",
       "3                    undefined            T21824A  2.082014e+14  3.535661e+13  \n",
       "4             Samsung Sm-G390F            D88865A  2.082014e+14  3.540701e+13  "
      ]
     },
     "execution_count": 5,
     "metadata": {},
     "output_type": "execute_result"
    }
   ],
   "source": [
    "#Reading the clean data csv sheet\n",
    "pd.set_option('max_column', None)\n",
    "df=pd.read_csv('../data/cleaned_telecom_data.csv')\n",
    "df.head()"
   ]
  },
  {
   "cell_type": "code",
   "execution_count": 6,
   "id": "731e2855",
   "metadata": {},
   "outputs": [
    {
     "name": "stdout",
     "output_type": "stream",
     "text": [
      "<class 'pandas.core.frame.DataFrame'>\n",
      "RangeIndex: 106856 entries, 0 to 106855\n",
      "Data columns (total 26 columns):\n",
      " #   Column                   Non-Null Count   Dtype  \n",
      "---  ------                   --------------   -----  \n",
      " 0   MSISDN/Number            106856 non-null  float64\n",
      " 1   no.of xDR sessions       106856 non-null  int64  \n",
      " 2   Total Uploads            106856 non-null  float64\n",
      " 3   Total Downloads          106856 non-null  float64\n",
      " 4   Total UL and DL          106856 non-null  float64\n",
      " 5   Youtube_Total_Data       106856 non-null  float64\n",
      " 6   Google_Total_Data        106856 non-null  float64\n",
      " 7   Email_Total_Data         106856 non-null  float64\n",
      " 8   Social_Media_Total_Data  106856 non-null  float64\n",
      " 9   Netflix_Total_Data       106856 non-null  float64\n",
      " 10  Gaming_Total_Data        106856 non-null  float64\n",
      " 11  Other_Total_Data         106856 non-null  float64\n",
      " 12  Start ms                 106856 non-null  float64\n",
      " 13  End ms                   106856 non-null  float64\n",
      " 14  Start                    106856 non-null  object \n",
      " 15  End                      106856 non-null  object \n",
      " 16  Avg Delay (ms)           106856 non-null  float64\n",
      " 17  Dur. (ms)                106856 non-null  float64\n",
      " 18  Dur. (ms).1              106856 non-null  float64\n",
      " 19  Activity_Duration(ms)    106856 non-null  float64\n",
      " 20  Avg Throughput (kbps)    106856 non-null  float64\n",
      " 21  Handset Manufacturer     106856 non-null  object \n",
      " 22  Handset Type             106856 non-null  object \n",
      " 23  Last Location Name       106856 non-null  object \n",
      " 24  IMSI                     106856 non-null  float64\n",
      " 25  IMEI                     106856 non-null  float64\n",
      "dtypes: float64(20), int64(1), object(5)\n",
      "memory usage: 21.2+ MB\n"
     ]
    }
   ],
   "source": [
    "df.info()"
   ]
  },
  {
   "cell_type": "markdown",
   "id": "7c6d2796",
   "metadata": {},
   "source": [
    "### Numerical data "
   ]
  },
  {
   "cell_type": "code",
   "execution_count": 7,
   "id": "609ec70e",
   "metadata": {},
   "outputs": [
    {
     "data": {
      "text/plain": [
       "Index(['MSISDN/Number', 'no.of xDR sessions', 'Total Uploads',\n",
       "       'Total Downloads', 'Total UL and DL', 'Youtube_Total_Data',\n",
       "       'Google_Total_Data', 'Email_Total_Data', 'Social_Media_Total_Data',\n",
       "       'Netflix_Total_Data', 'Gaming_Total_Data', 'Other_Total_Data',\n",
       "       'Start ms', 'End ms', 'Avg Delay (ms)', 'Dur. (ms)', 'Dur. (ms).1',\n",
       "       'Activity_Duration(ms)', 'Avg Throughput (kbps)', 'IMSI', 'IMEI'],\n",
       "      dtype='object')"
      ]
     },
     "execution_count": 7,
     "metadata": {},
     "output_type": "execute_result"
    }
   ],
   "source": [
    "df._get_numeric_data().columns"
   ]
  },
  {
   "cell_type": "markdown",
   "id": "47b39d13",
   "metadata": {},
   "source": [
    "### Catagorical data"
   ]
  },
  {
   "cell_type": "code",
   "execution_count": 8,
   "id": "00174bd6",
   "metadata": {},
   "outputs": [],
   "source": [
    "cols = df.columns"
   ]
  },
  {
   "cell_type": "code",
   "execution_count": 9,
   "id": "620e2cd2",
   "metadata": {},
   "outputs": [],
   "source": [
    "numer_cols = df._get_numeric_data().columns"
   ]
  },
  {
   "cell_type": "code",
   "execution_count": 10,
   "id": "52bf1614",
   "metadata": {},
   "outputs": [
    {
     "data": {
      "text/plain": [
       "['Last Location Name', 'Start', 'Handset Type', 'Handset Manufacturer', 'End']"
      ]
     },
     "execution_count": 10,
     "metadata": {},
     "output_type": "execute_result"
    }
   ],
   "source": [
    "list(set(cols) - set(numer_cols))"
   ]
  },
  {
   "cell_type": "code",
   "execution_count": 11,
   "id": "1fd7ace5",
   "metadata": {},
   "outputs": [],
   "source": [
    "cols = ['IMSI','Handset Manufacturer','Handset Type','IMEI','MSISDN/Number','Last Location Name']"
   ]
  },
  {
   "cell_type": "code",
   "execution_count": 12,
   "id": "9ba5decb",
   "metadata": {},
   "outputs": [],
   "source": [
    "try:\n",
    "    for col in cols:\n",
    "        df[col] = df[col].astype('category')\n",
    "except:\n",
    "    print(\"can't change to categorycal\")"
   ]
  },
  {
   "cell_type": "code",
   "execution_count": 13,
   "id": "38c08429",
   "metadata": {},
   "outputs": [],
   "source": [
    "cols = df.columns"
   ]
  },
  {
   "cell_type": "code",
   "execution_count": 14,
   "id": "c734afa6",
   "metadata": {},
   "outputs": [
    {
     "data": {
      "text/plain": [
       "['Last Location Name',\n",
       " 'MSISDN/Number',\n",
       " 'Start',\n",
       " 'Handset Type',\n",
       " 'IMSI',\n",
       " 'IMEI',\n",
       " 'Handset Manufacturer',\n",
       " 'End']"
      ]
     },
     "execution_count": 14,
     "metadata": {},
     "output_type": "execute_result"
    }
   ],
   "source": [
    "numer_cols = df._get_numeric_data().columns\n",
    "list(set(cols) - set(numer_cols))"
   ]
  },
  {
   "cell_type": "markdown",
   "id": "3c88079b",
   "metadata": {},
   "source": [
    "## Data Exploration"
   ]
  },
  {
   "cell_type": "code",
   "execution_count": 15,
   "id": "37056ede",
   "metadata": {},
   "outputs": [
    {
     "name": "stdout",
     "output_type": "stream",
     "text": [
      "<class 'pandas.core.frame.DataFrame'>\n",
      "RangeIndex: 106856 entries, 0 to 106855\n",
      "Data columns (total 26 columns):\n",
      " #   Column                   Non-Null Count   Dtype   \n",
      "---  ------                   --------------   -----   \n",
      " 0   MSISDN/Number            106856 non-null  category\n",
      " 1   no.of xDR sessions       106856 non-null  int64   \n",
      " 2   Total Uploads            106856 non-null  float64 \n",
      " 3   Total Downloads          106856 non-null  float64 \n",
      " 4   Total UL and DL          106856 non-null  float64 \n",
      " 5   Youtube_Total_Data       106856 non-null  float64 \n",
      " 6   Google_Total_Data        106856 non-null  float64 \n",
      " 7   Email_Total_Data         106856 non-null  float64 \n",
      " 8   Social_Media_Total_Data  106856 non-null  float64 \n",
      " 9   Netflix_Total_Data       106856 non-null  float64 \n",
      " 10  Gaming_Total_Data        106856 non-null  float64 \n",
      " 11  Other_Total_Data         106856 non-null  float64 \n",
      " 12  Start ms                 106856 non-null  float64 \n",
      " 13  End ms                   106856 non-null  float64 \n",
      " 14  Start                    106856 non-null  object  \n",
      " 15  End                      106856 non-null  object  \n",
      " 16  Avg Delay (ms)           106856 non-null  float64 \n",
      " 17  Dur. (ms)                106856 non-null  float64 \n",
      " 18  Dur. (ms).1              106856 non-null  float64 \n",
      " 19  Activity_Duration(ms)    106856 non-null  float64 \n",
      " 20  Avg Throughput (kbps)    106856 non-null  float64 \n",
      " 21  Handset Manufacturer     106856 non-null  category\n",
      " 22  Handset Type             106856 non-null  category\n",
      " 23  Last Location Name       106856 non-null  category\n",
      " 24  IMSI                     106856 non-null  category\n",
      " 25  IMEI                     106856 non-null  category\n",
      "dtypes: category(6), float64(17), int64(1), object(2)\n",
      "memory usage: 29.8+ MB\n"
     ]
    }
   ],
   "source": [
    "df.info()"
   ]
  },
  {
   "cell_type": "code",
   "execution_count": 16,
   "id": "fe08fff3",
   "metadata": {},
   "outputs": [
    {
     "data": {
      "text/html": [
       "<div>\n",
       "<style scoped>\n",
       "    .dataframe tbody tr th:only-of-type {\n",
       "        vertical-align: middle;\n",
       "    }\n",
       "\n",
       "    .dataframe tbody tr th {\n",
       "        vertical-align: top;\n",
       "    }\n",
       "\n",
       "    .dataframe thead th {\n",
       "        text-align: right;\n",
       "    }\n",
       "</style>\n",
       "<table border=\"1\" class=\"dataframe\">\n",
       "  <thead>\n",
       "    <tr style=\"text-align: right;\">\n",
       "      <th></th>\n",
       "      <th>no.of xDR sessions</th>\n",
       "      <th>Total Uploads</th>\n",
       "      <th>Total Downloads</th>\n",
       "      <th>Total UL and DL</th>\n",
       "      <th>Youtube_Total_Data</th>\n",
       "      <th>Google_Total_Data</th>\n",
       "      <th>Email_Total_Data</th>\n",
       "      <th>Social_Media_Total_Data</th>\n",
       "      <th>Netflix_Total_Data</th>\n",
       "      <th>Gaming_Total_Data</th>\n",
       "      <th>Other_Total_Data</th>\n",
       "      <th>Start ms</th>\n",
       "      <th>End ms</th>\n",
       "      <th>Avg Delay (ms)</th>\n",
       "      <th>Dur. (ms)</th>\n",
       "      <th>Dur. (ms).1</th>\n",
       "      <th>Activity_Duration(ms)</th>\n",
       "      <th>Avg Throughput (kbps)</th>\n",
       "    </tr>\n",
       "  </thead>\n",
       "  <tbody>\n",
       "    <tr>\n",
       "      <th>count</th>\n",
       "      <td>106856.000000</td>\n",
       "      <td>1.068560e+05</td>\n",
       "      <td>1.068560e+05</td>\n",
       "      <td>1.068560e+05</td>\n",
       "      <td>1.068560e+05</td>\n",
       "      <td>1.068560e+05</td>\n",
       "      <td>1.068560e+05</td>\n",
       "      <td>1.068560e+05</td>\n",
       "      <td>1.068560e+05</td>\n",
       "      <td>1.068560e+05</td>\n",
       "      <td>1.068560e+05</td>\n",
       "      <td>106856.00000</td>\n",
       "      <td>106856.000000</td>\n",
       "      <td>106856.000000</td>\n",
       "      <td>1.068560e+05</td>\n",
       "      <td>1.068560e+05</td>\n",
       "      <td>1.068560e+05</td>\n",
       "      <td>106856.000000</td>\n",
       "    </tr>\n",
       "    <tr>\n",
       "      <th>mean</th>\n",
       "      <td>1.403768</td>\n",
       "      <td>4.110601e+13</td>\n",
       "      <td>8.755117e+14</td>\n",
       "      <td>9.166177e+14</td>\n",
       "      <td>2.261432e+13</td>\n",
       "      <td>7.807186e+12</td>\n",
       "      <td>2.256312e+12</td>\n",
       "      <td>1.829234e+12</td>\n",
       "      <td>2.263888e+13</td>\n",
       "      <td>4.306893e+14</td>\n",
       "      <td>4.287825e+14</td>\n",
       "      <td>500.04668</td>\n",
       "      <td>498.819608</td>\n",
       "      <td>128.501291</td>\n",
       "      <td>9.662336e+04</td>\n",
       "      <td>9.662390e+07</td>\n",
       "      <td>2.940389e+06</td>\n",
       "      <td>14911.826814</td>\n",
       "    </tr>\n",
       "    <tr>\n",
       "      <th>std</th>\n",
       "      <td>0.815371</td>\n",
       "      <td>1.129677e+13</td>\n",
       "      <td>3.443597e+14</td>\n",
       "      <td>3.445153e+14</td>\n",
       "      <td>9.247766e+12</td>\n",
       "      <td>3.518899e+12</td>\n",
       "      <td>1.070585e+12</td>\n",
       "      <td>1.035324e+12</td>\n",
       "      <td>9.263578e+12</td>\n",
       "      <td>2.441595e+14</td>\n",
       "      <td>2.434219e+14</td>\n",
       "      <td>288.70693</td>\n",
       "      <td>288.344458</td>\n",
       "      <td>662.797324</td>\n",
       "      <td>8.395441e+04</td>\n",
       "      <td>8.395440e+07</td>\n",
       "      <td>9.624583e+06</td>\n",
       "      <td>26323.111201</td>\n",
       "    </tr>\n",
       "    <tr>\n",
       "      <th>min</th>\n",
       "      <td>1.000000</td>\n",
       "      <td>4.469240e+12</td>\n",
       "      <td>1.516948e+13</td>\n",
       "      <td>5.836229e+13</td>\n",
       "      <td>1.296550e+11</td>\n",
       "      <td>4.033000e+10</td>\n",
       "      <td>8.359000e+09</td>\n",
       "      <td>2.003000e+09</td>\n",
       "      <td>9.843200e+10</td>\n",
       "      <td>5.953750e+11</td>\n",
       "      <td>1.490450e+11</td>\n",
       "      <td>0.00000</td>\n",
       "      <td>0.000000</td>\n",
       "      <td>0.000000</td>\n",
       "      <td>7.142000e+03</td>\n",
       "      <td>7.142988e+06</td>\n",
       "      <td>0.000000e+00</td>\n",
       "      <td>0.000000</td>\n",
       "    </tr>\n",
       "    <tr>\n",
       "      <th>25%</th>\n",
       "      <td>1.000000</td>\n",
       "      <td>3.316944e+13</td>\n",
       "      <td>6.280894e+14</td>\n",
       "      <td>6.691826e+14</td>\n",
       "      <td>1.598535e+13</td>\n",
       "      <td>4.938135e+12</td>\n",
       "      <td>1.356211e+12</td>\n",
       "      <td>9.347748e+11</td>\n",
       "      <td>1.599168e+13</td>\n",
       "      <td>2.189957e+14</td>\n",
       "      <td>2.172528e+14</td>\n",
       "      <td>251.00000</td>\n",
       "      <td>252.000000</td>\n",
       "      <td>37.000000</td>\n",
       "      <td>4.085950e+04</td>\n",
       "      <td>4.086000e+07</td>\n",
       "      <td>3.483275e+04</td>\n",
       "      <td>91.000000</td>\n",
       "    </tr>\n",
       "    <tr>\n",
       "      <th>50%</th>\n",
       "      <td>1.000000</td>\n",
       "      <td>4.112088e+13</td>\n",
       "      <td>8.760625e+14</td>\n",
       "      <td>9.166781e+14</td>\n",
       "      <td>2.263187e+13</td>\n",
       "      <td>7.815112e+12</td>\n",
       "      <td>2.261322e+12</td>\n",
       "      <td>1.827609e+12</td>\n",
       "      <td>2.263623e+13</td>\n",
       "      <td>4.317391e+14</td>\n",
       "      <td>4.295621e+14</td>\n",
       "      <td>500.00000</td>\n",
       "      <td>499.500000</td>\n",
       "      <td>52.000000</td>\n",
       "      <td>8.639900e+04</td>\n",
       "      <td>8.639990e+07</td>\n",
       "      <td>8.780350e+04</td>\n",
       "      <td>135.000000</td>\n",
       "    </tr>\n",
       "    <tr>\n",
       "      <th>75%</th>\n",
       "      <td>2.000000</td>\n",
       "      <td>4.902461e+13</td>\n",
       "      <td>1.123551e+15</td>\n",
       "      <td>1.164285e+15</td>\n",
       "      <td>2.925176e+13</td>\n",
       "      <td>1.068372e+13</td>\n",
       "      <td>3.156982e+12</td>\n",
       "      <td>2.725866e+12</td>\n",
       "      <td>2.931266e+13</td>\n",
       "      <td>6.418924e+14</td>\n",
       "      <td>6.396096e+14</td>\n",
       "      <td>750.00000</td>\n",
       "      <td>751.000000</td>\n",
       "      <td>88.000000</td>\n",
       "      <td>1.188535e+05</td>\n",
       "      <td>1.188538e+08</td>\n",
       "      <td>1.167671e+06</td>\n",
       "      <td>22066.750000</td>\n",
       "    </tr>\n",
       "    <tr>\n",
       "      <th>max</th>\n",
       "      <td>18.000000</td>\n",
       "      <td>7.833131e+13</td>\n",
       "      <td>1.735683e+15</td>\n",
       "      <td>1.780674e+15</td>\n",
       "      <td>4.519008e+13</td>\n",
       "      <td>1.552878e+13</td>\n",
       "      <td>4.518036e+12</td>\n",
       "      <td>3.650861e+12</td>\n",
       "      <td>4.519815e+13</td>\n",
       "      <td>8.592028e+14</td>\n",
       "      <td>8.595209e+14</td>\n",
       "      <td>999.00000</td>\n",
       "      <td>999.000000</td>\n",
       "      <td>96924.000000</td>\n",
       "      <td>1.823652e+06</td>\n",
       "      <td>1.823653e+09</td>\n",
       "      <td>2.194264e+08</td>\n",
       "      <td>300546.000000</td>\n",
       "    </tr>\n",
       "  </tbody>\n",
       "</table>\n",
       "</div>"
      ],
      "text/plain": [
       "       no.of xDR sessions  Total Uploads  Total Downloads  Total UL and DL  \\\n",
       "count       106856.000000   1.068560e+05     1.068560e+05     1.068560e+05   \n",
       "mean             1.403768   4.110601e+13     8.755117e+14     9.166177e+14   \n",
       "std              0.815371   1.129677e+13     3.443597e+14     3.445153e+14   \n",
       "min              1.000000   4.469240e+12     1.516948e+13     5.836229e+13   \n",
       "25%              1.000000   3.316944e+13     6.280894e+14     6.691826e+14   \n",
       "50%              1.000000   4.112088e+13     8.760625e+14     9.166781e+14   \n",
       "75%              2.000000   4.902461e+13     1.123551e+15     1.164285e+15   \n",
       "max             18.000000   7.833131e+13     1.735683e+15     1.780674e+15   \n",
       "\n",
       "       Youtube_Total_Data  Google_Total_Data  Email_Total_Data  \\\n",
       "count        1.068560e+05       1.068560e+05      1.068560e+05   \n",
       "mean         2.261432e+13       7.807186e+12      2.256312e+12   \n",
       "std          9.247766e+12       3.518899e+12      1.070585e+12   \n",
       "min          1.296550e+11       4.033000e+10      8.359000e+09   \n",
       "25%          1.598535e+13       4.938135e+12      1.356211e+12   \n",
       "50%          2.263187e+13       7.815112e+12      2.261322e+12   \n",
       "75%          2.925176e+13       1.068372e+13      3.156982e+12   \n",
       "max          4.519008e+13       1.552878e+13      4.518036e+12   \n",
       "\n",
       "       Social_Media_Total_Data  Netflix_Total_Data  Gaming_Total_Data  \\\n",
       "count             1.068560e+05        1.068560e+05       1.068560e+05   \n",
       "mean              1.829234e+12        2.263888e+13       4.306893e+14   \n",
       "std               1.035324e+12        9.263578e+12       2.441595e+14   \n",
       "min               2.003000e+09        9.843200e+10       5.953750e+11   \n",
       "25%               9.347748e+11        1.599168e+13       2.189957e+14   \n",
       "50%               1.827609e+12        2.263623e+13       4.317391e+14   \n",
       "75%               2.725866e+12        2.931266e+13       6.418924e+14   \n",
       "max               3.650861e+12        4.519815e+13       8.592028e+14   \n",
       "\n",
       "       Other_Total_Data      Start ms         End ms  Avg Delay (ms)  \\\n",
       "count      1.068560e+05  106856.00000  106856.000000   106856.000000   \n",
       "mean       4.287825e+14     500.04668     498.819608      128.501291   \n",
       "std        2.434219e+14     288.70693     288.344458      662.797324   \n",
       "min        1.490450e+11       0.00000       0.000000        0.000000   \n",
       "25%        2.172528e+14     251.00000     252.000000       37.000000   \n",
       "50%        4.295621e+14     500.00000     499.500000       52.000000   \n",
       "75%        6.396096e+14     750.00000     751.000000       88.000000   \n",
       "max        8.595209e+14     999.00000     999.000000    96924.000000   \n",
       "\n",
       "          Dur. (ms)   Dur. (ms).1  Activity_Duration(ms)  \\\n",
       "count  1.068560e+05  1.068560e+05           1.068560e+05   \n",
       "mean   9.662336e+04  9.662390e+07           2.940389e+06   \n",
       "std    8.395441e+04  8.395440e+07           9.624583e+06   \n",
       "min    7.142000e+03  7.142988e+06           0.000000e+00   \n",
       "25%    4.085950e+04  4.086000e+07           3.483275e+04   \n",
       "50%    8.639900e+04  8.639990e+07           8.780350e+04   \n",
       "75%    1.188535e+05  1.188538e+08           1.167671e+06   \n",
       "max    1.823652e+06  1.823653e+09           2.194264e+08   \n",
       "\n",
       "       Avg Throughput (kbps)  \n",
       "count          106856.000000  \n",
       "mean            14911.826814  \n",
       "std             26323.111201  \n",
       "min                 0.000000  \n",
       "25%                91.000000  \n",
       "50%               135.000000  \n",
       "75%             22066.750000  \n",
       "max            300546.000000  "
      ]
     },
     "execution_count": 16,
     "metadata": {},
     "output_type": "execute_result"
    }
   ],
   "source": [
    "inform = data_preProcessing_script(df)\n",
    "inform.show_data_description()"
   ]
  },
  {
   "cell_type": "markdown",
   "id": "792ea7e3",
   "metadata": {},
   "source": [
    "# Univariant Analysis"
   ]
  },
  {
   "cell_type": "markdown",
   "id": "71f7acfd",
   "metadata": {},
   "source": [
    "## Total UL and DL"
   ]
  },
  {
   "cell_type": "code",
   "execution_count": 19,
   "id": "e8a09ad5",
   "metadata": {},
   "outputs": [
    {
     "data": {
      "image/png": "[encoded data removed]",
      "text/plain": [
       "<Figure size 1008x504 with 1 Axes>"
      ]
     },
     "metadata": {
      "needs_background": "light"
     },
     "output_type": "display_data"
    }
   ],
   "source": [
    "exploration.plot_hist(df, 'Total UL and DL', 'blue')"
   ]
  },
  {
   "cell_type": "code",
   "execution_count": 24,
   "id": "5e51a96d",
   "metadata": {},
   "outputs": [
    {
     "data": {
      "text/plain": [
       "count    1.068560e+05\n",
       "mean     9.166177e+14\n",
       "std      3.445153e+14\n",
       "min      5.836229e+13\n",
       "25%      6.691826e+14\n",
       "50%      9.166781e+14\n",
       "75%      1.164285e+15\n",
       "max      1.780674e+15\n",
       "Name: Total UL and DL, dtype: float64"
      ]
     },
     "execution_count": 24,
     "metadata": {},
     "output_type": "execute_result"
    }
   ],
   "source": [
    "df.describe()['Total UL and DL']"
   ]
  },
  {
   "cell_type": "markdown",
   "id": "b02864f7",
   "metadata": {},
   "source": [
    "## Youtube Total Data"
   ]
  },
  {
   "cell_type": "code",
   "execution_count": 22,
   "id": "5545f25b",
   "metadata": {},
   "outputs": [
    {
     "data": {
      "image/png": "[encoded data removed]",
      "text/plain": [
       "<Figure size 1008x504 with 1 Axes>"
      ]
     },
     "metadata": {
      "needs_background": "light"
     },
     "output_type": "display_data"
    }
   ],
   "source": [
    "exploration.plot_hist(df, 'Youtube_Total_Data', 'red')"
   ]
  },
  {
   "cell_type": "code",
   "execution_count": 30,
   "id": "b2e380e1",
   "metadata": {},
   "outputs": [
    {
     "data": {
      "text/plain": [
       "count    1.068560e+05\n",
       "mean     2.261432e+13\n",
       "std      9.247766e+12\n",
       "min      1.296550e+11\n",
       "25%      1.598535e+13\n",
       "50%      2.263187e+13\n",
       "75%      2.925176e+13\n",
       "max      4.519008e+13\n",
       "Name: Youtube_Total_Data, dtype: float64"
      ]
     },
     "execution_count": 30,
     "metadata": {},
     "output_type": "execute_result"
    }
   ],
   "source": [
    "df.describe()['Youtube_Total_Data']"
   ]
  },
  {
   "cell_type": "markdown",
   "id": "e2bbc52c",
   "metadata": {},
   "source": [
    "## Google Total Data"
   ]
  },
  {
   "cell_type": "code",
   "execution_count": 31,
   "id": "3b431847",
   "metadata": {},
   "outputs": [
    {
     "data": {
      "image/png": "[encoded data removed]",
      "text/plain": [
       "<Figure size 1008x504 with 1 Axes>"
      ]
     },
     "metadata": {
      "needs_background": "light"
     },
     "output_type": "display_data"
    }
   ],
   "source": [
    "exploration.plot_hist(df, 'Google_Total_Data', 'green')"
   ]
  },
  {
   "cell_type": "code",
   "execution_count": 29,
   "id": "8d397c18",
   "metadata": {},
   "outputs": [
    {
     "data": {
      "text/plain": [
       "count    1.068560e+05\n",
       "mean     7.807186e+12\n",
       "std      3.518899e+12\n",
       "min      4.033000e+10\n",
       "25%      4.938135e+12\n",
       "50%      7.815112e+12\n",
       "75%      1.068372e+13\n",
       "max      1.552878e+13\n",
       "Name: Google_Total_Data, dtype: float64"
      ]
     },
     "execution_count": 29,
     "metadata": {},
     "output_type": "execute_result"
    }
   ],
   "source": [
    "df.describe()['Google_Total_Data']"
   ]
  },
  {
   "cell_type": "code",
   "execution_count": null,
   "id": "e2a71dcb",
   "metadata": {},
   "outputs": [],
   "source": []
  },
  {
   "cell_type": "code",
   "execution_count": null,
   "id": "f71b39d0",
   "metadata": {},
   "outputs": [],
   "source": [
    "exploration.plot_hist(df, 'Google_Total_Data', 'green')"
   ]
  },
  {
   "cell_type": "code",
   "execution_count": null,
   "id": "b19574fe",
   "metadata": {},
   "outputs": [],
   "source": [
    "df.describe()['Google_Total_Data']"
   ]
  },
  {
   "cell_type": "code",
   "execution_count": null,
   "id": "271cca63",
   "metadata": {},
   "outputs": [],
   "source": []
  },
  {
   "cell_type": "code",
   "execution_count": null,
   "id": "5fef6e7f",
   "metadata": {},
   "outputs": [],
   "source": []
  },
  {
   "cell_type": "code",
   "execution_count": null,
   "id": "f63bb9df",
   "metadata": {},
   "outputs": [],
   "source": []
  },
  {
   "cell_type": "code",
   "execution_count": 26,
   "id": "78b6203c",
   "metadata": {},
   "outputs": [
    {
     "data": {
      "text/plain": [
       "'Google_Total_Data'"
      ]
     },
     "execution_count": 26,
     "metadata": {},
     "output_type": "execute_result"
    }
   ],
   "source": [
    " 'Email_Total_Data'  'Social_Media_Total_Data' 'Netflix_Total_Data' 'Gaming_Total_Data'\n",
    "'Other_Total_Data'"
   ]
  },
  {
   "cell_type": "code",
   "execution_count": null,
   "id": "2ebdd6c0",
   "metadata": {},
   "outputs": [],
   "source": []
  }
 ],
 "metadata": {
  "kernelspec": {
   "display_name": "Python 3 (ipykernel)",
   "language": "python",
   "name": "python3"
  },
  "language_info": {
   "codemirror_mode": {
    "name": "ipython",
    "version": 3
   },
   "file_extension": ".py",
   "mimetype": "text/x-python",
   "name": "python",
   "nbconvert_exporter": "python",
   "pygments_lexer": "ipython3",
   "version": "3.9.7"
  }
 },
 "nbformat": 4,
 "nbformat_minor": 5
}
