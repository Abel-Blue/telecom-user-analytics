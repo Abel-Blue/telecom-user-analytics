{
 "cells": [
  {
   "cell_type": "code",
   "execution_count": 28,
   "id": "51213c43",
   "metadata": {},
   "outputs": [],
   "source": [
    "import pandas as pd\n",
    "import numpy as np"
   ]
  },
  {
   "cell_type": "code",
   "execution_count": 29,
   "id": "7e30827f",
   "metadata": {},
   "outputs": [],
   "source": [
    "# packages for path locations\n",
    "import os\n",
    "import sys"
   ]
  },
  {
   "cell_type": "code",
   "execution_count": 30,
   "id": "49bad565",
   "metadata": {},
   "outputs": [],
   "source": [
    "# package scripts in the script module folder \n",
    "sys.path.insert(0,'../scripts/')\n",
    "from data_exploration import exploration\n",
    "from data_preProcessing import data_preProcessing_script"
   ]
  },
  {
   "cell_type": "code",
   "execution_count": 31,
   "id": "2fcc85b9",
   "metadata": {},
   "outputs": [],
   "source": [
    "#importing the some libraries for the project\n",
    "import seaborn as sns\n",
    "import matplotlib.pyplot as plt\n",
    "%matplotlib inline\n",
    "from statistics import *\n",
    "import warnings\n",
    "warnings.filterwarnings('ignore')"
   ]
  },
  {
   "cell_type": "code",
   "execution_count": 71,
   "id": "eeeae67e",
   "metadata": {},
   "outputs": [
    {
     "data": {
      "text/html": [
       "<div>\n",
       "<style scoped>\n",
       "    .dataframe tbody tr th:only-of-type {\n",
       "        vertical-align: middle;\n",
       "    }\n",
       "\n",
       "    .dataframe tbody tr th {\n",
       "        vertical-align: top;\n",
       "    }\n",
       "\n",
       "    .dataframe thead th {\n",
       "        text-align: right;\n",
       "    }\n",
       "</style>\n",
       "<table border=\"1\" class=\"dataframe\">\n",
       "  <thead>\n",
       "    <tr style=\"text-align: right;\">\n",
       "      <th></th>\n",
       "      <th>MSISDN/Number</th>\n",
       "      <th>no.of xDR sessions</th>\n",
       "      <th>Total Uploads</th>\n",
       "      <th>Total Downloads</th>\n",
       "      <th>Total UL and DL</th>\n",
       "      <th>Youtube_Total_Data</th>\n",
       "      <th>Google_Total_Data</th>\n",
       "      <th>Email_Total_Data</th>\n",
       "      <th>Social_Media_Total_Data</th>\n",
       "      <th>Netflix_Total_Data</th>\n",
       "      <th>Gaming_Total_Data</th>\n",
       "      <th>Other_Total_Data</th>\n",
       "      <th>Start ms</th>\n",
       "      <th>End ms</th>\n",
       "      <th>Start</th>\n",
       "      <th>End</th>\n",
       "      <th>Avg Delay (ms)</th>\n",
       "      <th>Dur. (ms)</th>\n",
       "      <th>Dur. (ms).1</th>\n",
       "      <th>Activity_Duration(ms)</th>\n",
       "      <th>Avg Throughput (kbps)</th>\n",
       "      <th>Handset Manufacturer</th>\n",
       "      <th>Handset Type</th>\n",
       "      <th>Last Location Name</th>\n",
       "      <th>IMSI</th>\n",
       "      <th>IMEI</th>\n",
       "    </tr>\n",
       "  </thead>\n",
       "  <tbody>\n",
       "    <tr>\n",
       "      <th>0</th>\n",
       "      <td>3.360100e+10</td>\n",
       "      <td>1</td>\n",
       "      <td>3.674974e+13</td>\n",
       "      <td>4.806241e+14</td>\n",
       "      <td>5.173738e+14</td>\n",
       "      <td>1.835594e+13</td>\n",
       "      <td>2.905912e+12</td>\n",
       "      <td>3.701304e+12</td>\n",
       "      <td>1.570185e+12</td>\n",
       "      <td>1.785519e+13</td>\n",
       "      <td>2.924265e+14</td>\n",
       "      <td>1.805588e+14</td>\n",
       "      <td>770.0</td>\n",
       "      <td>662.0</td>\n",
       "      <td>2019-04-04 12:01:18</td>\n",
       "      <td>2019-04-25 14:35:31</td>\n",
       "      <td>47.0</td>\n",
       "      <td>1823652.0</td>\n",
       "      <td>1.823653e+09</td>\n",
       "      <td>76411.0</td>\n",
       "      <td>67.0</td>\n",
       "      <td>Samsung</td>\n",
       "      <td>Samsung Galaxy A5 Sm-A520F</td>\n",
       "      <td>9164566995485190</td>\n",
       "      <td>2.082014e+14</td>\n",
       "      <td>3.552121e+13</td>\n",
       "    </tr>\n",
       "    <tr>\n",
       "      <th>1</th>\n",
       "      <td>3.360100e+10</td>\n",
       "      <td>1</td>\n",
       "      <td>5.380039e+13</td>\n",
       "      <td>1.180289e+15</td>\n",
       "      <td>1.234090e+15</td>\n",
       "      <td>3.935912e+13</td>\n",
       "      <td>4.414096e+12</td>\n",
       "      <td>9.373850e+11</td>\n",
       "      <td>1.933278e+12</td>\n",
       "      <td>3.556554e+13</td>\n",
       "      <td>6.099208e+14</td>\n",
       "      <td>5.419594e+14</td>\n",
       "      <td>235.0</td>\n",
       "      <td>606.0</td>\n",
       "      <td>2019-04-09 13:04:04</td>\n",
       "      <td>2019-04-25 08:15:48</td>\n",
       "      <td>70.0</td>\n",
       "      <td>1365104.0</td>\n",
       "      <td>1.365104e+09</td>\n",
       "      <td>3728.0</td>\n",
       "      <td>42.0</td>\n",
       "      <td>Samsung</td>\n",
       "      <td>Samsung Galaxy J5 (Sm-J530)</td>\n",
       "      <td>L77566A</td>\n",
       "      <td>2.082019e+14</td>\n",
       "      <td>3.579401e+13</td>\n",
       "    </tr>\n",
       "    <tr>\n",
       "      <th>2</th>\n",
       "      <td>3.360100e+10</td>\n",
       "      <td>1</td>\n",
       "      <td>2.788364e+13</td>\n",
       "      <td>6.904999e+14</td>\n",
       "      <td>7.183836e+14</td>\n",
       "      <td>3.442524e+13</td>\n",
       "      <td>1.022912e+13</td>\n",
       "      <td>3.363124e+12</td>\n",
       "      <td>1.726277e+12</td>\n",
       "      <td>2.375120e+13</td>\n",
       "      <td>2.299803e+14</td>\n",
       "      <td>4.149084e+14</td>\n",
       "      <td>1.0</td>\n",
       "      <td>652.0</td>\n",
       "      <td>2019-04-09 17:42:11</td>\n",
       "      <td>2019-04-25 11:58:13</td>\n",
       "      <td>70.0</td>\n",
       "      <td>1361762.0</td>\n",
       "      <td>1.361763e+09</td>\n",
       "      <td>0.0</td>\n",
       "      <td>15.0</td>\n",
       "      <td>Samsung</td>\n",
       "      <td>Samsung Galaxy A8 (2018)</td>\n",
       "      <td>D42335A</td>\n",
       "      <td>2.082003e+14</td>\n",
       "      <td>3.528151e+13</td>\n",
       "    </tr>\n",
       "    <tr>\n",
       "      <th>3</th>\n",
       "      <td>3.360101e+10</td>\n",
       "      <td>1</td>\n",
       "      <td>4.332422e+13</td>\n",
       "      <td>1.595068e+15</td>\n",
       "      <td>1.638393e+15</td>\n",
       "      <td>3.653476e+13</td>\n",
       "      <td>1.181176e+13</td>\n",
       "      <td>2.070983e+12</td>\n",
       "      <td>6.574930e+11</td>\n",
       "      <td>1.509259e+13</td>\n",
       "      <td>8.103879e+14</td>\n",
       "      <td>7.618372e+14</td>\n",
       "      <td>486.0</td>\n",
       "      <td>171.0</td>\n",
       "      <td>2019-04-10 00:31:25</td>\n",
       "      <td>2019-04-25 07:36:35</td>\n",
       "      <td>70.0</td>\n",
       "      <td>1321509.0</td>\n",
       "      <td>1.321510e+09</td>\n",
       "      <td>41212.0</td>\n",
       "      <td>88.0</td>\n",
       "      <td>undefined</td>\n",
       "      <td>undefined</td>\n",
       "      <td>T21824A</td>\n",
       "      <td>2.082014e+14</td>\n",
       "      <td>3.535661e+13</td>\n",
       "    </tr>\n",
       "    <tr>\n",
       "      <th>4</th>\n",
       "      <td>3.360101e+10</td>\n",
       "      <td>2</td>\n",
       "      <td>3.854281e+13</td>\n",
       "      <td>1.119848e+15</td>\n",
       "      <td>1.158391e+15</td>\n",
       "      <td>3.422225e+13</td>\n",
       "      <td>7.748843e+12</td>\n",
       "      <td>2.110349e+12</td>\n",
       "      <td>9.127880e+11</td>\n",
       "      <td>1.753980e+13</td>\n",
       "      <td>5.312370e+14</td>\n",
       "      <td>5.646198e+14</td>\n",
       "      <td>565.0</td>\n",
       "      <td>954.0</td>\n",
       "      <td>2019-04-12 20:10:23</td>\n",
       "      <td>2019-04-25 10:40:32</td>\n",
       "      <td>70.0</td>\n",
       "      <td>1089009.0</td>\n",
       "      <td>1.089009e+09</td>\n",
       "      <td>0.0</td>\n",
       "      <td>15.0</td>\n",
       "      <td>Samsung</td>\n",
       "      <td>Samsung Sm-G390F</td>\n",
       "      <td>D88865A</td>\n",
       "      <td>2.082014e+14</td>\n",
       "      <td>3.540701e+13</td>\n",
       "    </tr>\n",
       "  </tbody>\n",
       "</table>\n",
       "</div>"
      ],
      "text/plain": [
       "   MSISDN/Number  no.of xDR sessions  Total Uploads  Total Downloads  \\\n",
       "0   3.360100e+10                   1   3.674974e+13     4.806241e+14   \n",
       "1   3.360100e+10                   1   5.380039e+13     1.180289e+15   \n",
       "2   3.360100e+10                   1   2.788364e+13     6.904999e+14   \n",
       "3   3.360101e+10                   1   4.332422e+13     1.595068e+15   \n",
       "4   3.360101e+10                   2   3.854281e+13     1.119848e+15   \n",
       "\n",
       "   Total UL and DL  Youtube_Total_Data  Google_Total_Data  Email_Total_Data  \\\n",
       "0     5.173738e+14        1.835594e+13       2.905912e+12      3.701304e+12   \n",
       "1     1.234090e+15        3.935912e+13       4.414096e+12      9.373850e+11   \n",
       "2     7.183836e+14        3.442524e+13       1.022912e+13      3.363124e+12   \n",
       "3     1.638393e+15        3.653476e+13       1.181176e+13      2.070983e+12   \n",
       "4     1.158391e+15        3.422225e+13       7.748843e+12      2.110349e+12   \n",
       "\n",
       "   Social_Media_Total_Data  Netflix_Total_Data  Gaming_Total_Data  \\\n",
       "0             1.570185e+12        1.785519e+13       2.924265e+14   \n",
       "1             1.933278e+12        3.556554e+13       6.099208e+14   \n",
       "2             1.726277e+12        2.375120e+13       2.299803e+14   \n",
       "3             6.574930e+11        1.509259e+13       8.103879e+14   \n",
       "4             9.127880e+11        1.753980e+13       5.312370e+14   \n",
       "\n",
       "   Other_Total_Data  Start ms  End ms                Start  \\\n",
       "0      1.805588e+14     770.0   662.0  2019-04-04 12:01:18   \n",
       "1      5.419594e+14     235.0   606.0  2019-04-09 13:04:04   \n",
       "2      4.149084e+14       1.0   652.0  2019-04-09 17:42:11   \n",
       "3      7.618372e+14     486.0   171.0  2019-04-10 00:31:25   \n",
       "4      5.646198e+14     565.0   954.0  2019-04-12 20:10:23   \n",
       "\n",
       "                   End  Avg Delay (ms)  Dur. (ms)   Dur. (ms).1  \\\n",
       "0  2019-04-25 14:35:31            47.0  1823652.0  1.823653e+09   \n",
       "1  2019-04-25 08:15:48            70.0  1365104.0  1.365104e+09   \n",
       "2  2019-04-25 11:58:13            70.0  1361762.0  1.361763e+09   \n",
       "3  2019-04-25 07:36:35            70.0  1321509.0  1.321510e+09   \n",
       "4  2019-04-25 10:40:32            70.0  1089009.0  1.089009e+09   \n",
       "\n",
       "   Activity_Duration(ms)  Avg Throughput (kbps) Handset Manufacturer  \\\n",
       "0                76411.0                   67.0              Samsung   \n",
       "1                 3728.0                   42.0              Samsung   \n",
       "2                    0.0                   15.0              Samsung   \n",
       "3                41212.0                   88.0            undefined   \n",
       "4                    0.0                   15.0              Samsung   \n",
       "\n",
       "                  Handset Type Last Location Name          IMSI          IMEI  \n",
       "0   Samsung Galaxy A5 Sm-A520F   9164566995485190  2.082014e+14  3.552121e+13  \n",
       "1  Samsung Galaxy J5 (Sm-J530)            L77566A  2.082019e+14  3.579401e+13  \n",
       "2     Samsung Galaxy A8 (2018)            D42335A  2.082003e+14  3.528151e+13  \n",
       "3                    undefined            T21824A  2.082014e+14  3.535661e+13  \n",
       "4             Samsung Sm-G390F            D88865A  2.082014e+14  3.540701e+13  "
      ]
     },
     "execution_count": 71,
     "metadata": {},
     "output_type": "execute_result"
    }
   ],
   "source": [
    "#Reading the clean data csv sheet\n",
    "pd.set_option('max_column', None)\n",
    "df=pd.read_csv('../data/cleaned_telecom_data.csv')\n",
    "df.head()"
   ]
  },
  {
   "cell_type": "code",
   "execution_count": 72,
   "id": "e1af46a8",
   "metadata": {},
   "outputs": [
    {
     "name": "stdout",
     "output_type": "stream",
     "text": [
      "<class 'pandas.core.frame.DataFrame'>\n",
      "RangeIndex: 106856 entries, 0 to 106855\n",
      "Data columns (total 26 columns):\n",
      " #   Column                   Non-Null Count   Dtype  \n",
      "---  ------                   --------------   -----  \n",
      " 0   MSISDN/Number            106856 non-null  float64\n",
      " 1   no.of xDR sessions       106856 non-null  int64  \n",
      " 2   Total Uploads            106856 non-null  float64\n",
      " 3   Total Downloads          106856 non-null  float64\n",
      " 4   Total UL and DL          106856 non-null  float64\n",
      " 5   Youtube_Total_Data       106856 non-null  float64\n",
      " 6   Google_Total_Data        106856 non-null  float64\n",
      " 7   Email_Total_Data         106856 non-null  float64\n",
      " 8   Social_Media_Total_Data  106856 non-null  float64\n",
      " 9   Netflix_Total_Data       106856 non-null  float64\n",
      " 10  Gaming_Total_Data        106856 non-null  float64\n",
      " 11  Other_Total_Data         106856 non-null  float64\n",
      " 12  Start ms                 106856 non-null  float64\n",
      " 13  End ms                   106856 non-null  float64\n",
      " 14  Start                    106856 non-null  object \n",
      " 15  End                      106856 non-null  object \n",
      " 16  Avg Delay (ms)           106856 non-null  float64\n",
      " 17  Dur. (ms)                106856 non-null  float64\n",
      " 18  Dur. (ms).1              106856 non-null  float64\n",
      " 19  Activity_Duration(ms)    106856 non-null  float64\n",
      " 20  Avg Throughput (kbps)    106856 non-null  float64\n",
      " 21  Handset Manufacturer     106856 non-null  object \n",
      " 22  Handset Type             106856 non-null  object \n",
      " 23  Last Location Name       106856 non-null  object \n",
      " 24  IMSI                     106856 non-null  float64\n",
      " 25  IMEI                     106856 non-null  float64\n",
      "dtypes: float64(20), int64(1), object(5)\n",
      "memory usage: 21.2+ MB\n"
     ]
    }
   ],
   "source": [
    "df.info()"
   ]
  },
  {
   "cell_type": "markdown",
   "id": "897700cf",
   "metadata": {},
   "source": [
    "### Numerical data "
   ]
  },
  {
   "cell_type": "code",
   "execution_count": 73,
   "id": "e650b413",
   "metadata": {},
   "outputs": [
    {
     "data": {
      "text/plain": [
       "Index(['MSISDN/Number', 'no.of xDR sessions', 'Total Uploads',\n",
       "       'Total Downloads', 'Total UL and DL', 'Youtube_Total_Data',\n",
       "       'Google_Total_Data', 'Email_Total_Data', 'Social_Media_Total_Data',\n",
       "       'Netflix_Total_Data', 'Gaming_Total_Data', 'Other_Total_Data',\n",
       "       'Start ms', 'End ms', 'Avg Delay (ms)', 'Dur. (ms)', 'Dur. (ms).1',\n",
       "       'Activity_Duration(ms)', 'Avg Throughput (kbps)', 'IMSI', 'IMEI'],\n",
       "      dtype='object')"
      ]
     },
     "execution_count": 73,
     "metadata": {},
     "output_type": "execute_result"
    }
   ],
   "source": [
    "df._get_numeric_data().columns"
   ]
  },
  {
   "cell_type": "markdown",
   "id": "4dbead70",
   "metadata": {},
   "source": [
    "### Catagorical data"
   ]
  },
  {
   "cell_type": "code",
   "execution_count": 74,
   "id": "da23e4cb",
   "metadata": {},
   "outputs": [],
   "source": [
    "cols = df.columns"
   ]
  },
  {
   "cell_type": "code",
   "execution_count": 75,
   "id": "afca9770",
   "metadata": {},
   "outputs": [],
   "source": [
    "numer_cols = df._get_numeric_data().columns"
   ]
  },
  {
   "cell_type": "code",
   "execution_count": 76,
   "id": "6b4a271a",
   "metadata": {},
   "outputs": [
    {
     "data": {
      "text/plain": [
       "['Handset Manufacturer', 'Handset Type', 'End', 'Last Location Name', 'Start']"
      ]
     },
     "execution_count": 76,
     "metadata": {},
     "output_type": "execute_result"
    }
   ],
   "source": [
    "list(set(cols) - set(numer_cols))"
   ]
  },
  {
   "cell_type": "code",
   "execution_count": 82,
   "id": "10822f53",
   "metadata": {},
   "outputs": [],
   "source": [
    "cols = ['IMSI','Handset Manufacturer','Handset Type','IMEI','MSISDN/Number','Last Location Name']"
   ]
  },
  {
   "cell_type": "code",
   "execution_count": 83,
   "id": "d6b3d63a",
   "metadata": {},
   "outputs": [],
   "source": [
    "try:\n",
    "    for col in cols:\n",
    "        df[col] = df[col].astype('category')\n",
    "except:\n",
    "    print(\"can't change to categorycal\")"
   ]
  },
  {
   "cell_type": "code",
   "execution_count": 84,
   "id": "696b2b37",
   "metadata": {},
   "outputs": [],
   "source": [
    "cols = df.columns"
   ]
  },
  {
   "cell_type": "code",
   "execution_count": 85,
   "id": "a7002086",
   "metadata": {},
   "outputs": [
    {
     "data": {
      "text/plain": [
       "['Handset Manufacturer',\n",
       " 'Handset Type',\n",
       " 'Start',\n",
       " 'End',\n",
       " 'Last Location Name',\n",
       " 'IMSI',\n",
       " 'IMEI',\n",
       " 'MSISDN/Number']"
      ]
     },
     "execution_count": 85,
     "metadata": {},
     "output_type": "execute_result"
    }
   ],
   "source": [
    "numer_cols = df._get_numeric_data().columns\n",
    "list(set(cols) - set(numer_cols))"
   ]
  },
  {
   "cell_type": "code",
   "execution_count": 86,
   "id": "f77e512e",
   "metadata": {},
   "outputs": [
    {
     "name": "stdout",
     "output_type": "stream",
     "text": [
      "<class 'pandas.core.frame.DataFrame'>\n",
      "RangeIndex: 106856 entries, 0 to 106855\n",
      "Data columns (total 26 columns):\n",
      " #   Column                   Non-Null Count   Dtype   \n",
      "---  ------                   --------------   -----   \n",
      " 0   MSISDN/Number            106856 non-null  category\n",
      " 1   no.of xDR sessions       106856 non-null  int64   \n",
      " 2   Total Uploads            106856 non-null  float64 \n",
      " 3   Total Downloads          106856 non-null  float64 \n",
      " 4   Total UL and DL          106856 non-null  float64 \n",
      " 5   Youtube_Total_Data       106856 non-null  float64 \n",
      " 6   Google_Total_Data        106856 non-null  float64 \n",
      " 7   Email_Total_Data         106856 non-null  float64 \n",
      " 8   Social_Media_Total_Data  106856 non-null  float64 \n",
      " 9   Netflix_Total_Data       106856 non-null  float64 \n",
      " 10  Gaming_Total_Data        106856 non-null  float64 \n",
      " 11  Other_Total_Data         106856 non-null  float64 \n",
      " 12  Start ms                 106856 non-null  float64 \n",
      " 13  End ms                   106856 non-null  float64 \n",
      " 14  Start                    106856 non-null  object  \n",
      " 15  End                      106856 non-null  object  \n",
      " 16  Avg Delay (ms)           106856 non-null  float64 \n",
      " 17  Dur. (ms)                106856 non-null  float64 \n",
      " 18  Dur. (ms).1              106856 non-null  float64 \n",
      " 19  Activity_Duration(ms)    106856 non-null  float64 \n",
      " 20  Avg Throughput (kbps)    106856 non-null  float64 \n",
      " 21  Handset Manufacturer     106856 non-null  category\n",
      " 22  Handset Type             106856 non-null  category\n",
      " 23  Last Location Name       106856 non-null  category\n",
      " 24  IMSI                     106856 non-null  category\n",
      " 25  IMEI                     106856 non-null  category\n",
      "dtypes: category(6), float64(17), int64(1), object(2)\n",
      "memory usage: 29.8+ MB\n"
     ]
    }
   ],
   "source": [
    "df.info()"
   ]
  },
  {
   "cell_type": "code",
   "execution_count": null,
   "id": "f51b5e20",
   "metadata": {},
   "outputs": [],
   "source": []
  }
 ],
 "metadata": {
  "kernelspec": {
   "display_name": "Python 3 (ipykernel)",
   "language": "python",
   "name": "python3"
  },
  "language_info": {
   "codemirror_mode": {
    "name": "ipython",
    "version": 3
   },
   "file_extension": ".py",
   "mimetype": "text/x-python",
   "name": "python",
   "nbconvert_exporter": "python",
   "pygments_lexer": "ipython3",
   "version": "3.9.7"
  }
 },
 "nbformat": 4,
 "nbformat_minor": 5
}
